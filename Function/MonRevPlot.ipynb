{
  "nbformat": 4,
  "nbformat_minor": 0,
  "metadata": {
    "colab": {
      "provenance": [],
      "authorship_tag": "ABX9TyPhMxt2KRyeabSJxwee0+wj",
      "include_colab_link": true
    },
    "kernelspec": {
      "name": "python3",
      "display_name": "Python 3"
    },
    "language_info": {
      "name": "python"
    }
  },
  "cells": [
    {
      "cell_type": "markdown",
      "metadata": {
        "id": "view-in-github",
        "colab_type": "text"
      },
      "source": [
        "<a href=\"https://colab.research.google.com/github/angel870326/Monthly-Revenue-Forecasting/blob/main/Function/MonRevPlot.ipynb\" target=\"_parent\"><img src=\"https://colab.research.google.com/assets/colab-badge.svg\" alt=\"Open In Colab\"/></a>"
      ]
    },
    {
      "cell_type": "markdown",
      "metadata": {
        "id": "d3UyvF37PpZp"
      },
      "source": [
        "> 2023.04.05 Ssu-Yun Wang<br/>\n",
        "[Github @angel870326](https://github.com/angel870326)\n",
        "\n",
        "# **Monthly Revenue Forecasting with Benchmark, Random Forest Regressor, XGB Regressor, RNN, LSTM & DNN - Plots**\n",
        "\n",
        "### Contents\n",
        "\n",
        "##### 8. Plots\n",
        "*   8.1 Expected v.s. Predicted\n",
        "*   8.2 Scores: RMSE, MAPE, MAE, MAE%\n",
        "    *   8.2.1 Plot All Scores\n",
        "    *   8.2.2 分模型畫圖\n",
        "    *   8.2.3 Boxplot\n",
        "*   8.3 Feature Importance\n",
        "\n",
        "##### 9. Best and Worst Model - Feature Importance\n",
        "\n",
        "<br>\n",
        "\n",
        "2023.04.08 updated for Communications\n",
        "\n",
        "2023.04.15 updated for RNN and LSTM\n",
        "\n",
        "2023.05.13 updated for DNN\n",
        "\n",
        "2023.05.26 updated for Benchmark\n"
      ]
    },
    {
      "cell_type": "code",
      "source": [
        "import pandas as pd\n",
        "import numpy as np\n",
        "import matplotlib.pyplot as plt"
      ],
      "metadata": {
        "id": "Jx8g3sXLUqGj"
      },
      "execution_count": null,
      "outputs": []
    },
    {
      "cell_type": "code",
      "source": [
        "# Color\n",
        "blue_hex = '#3265ff'\n",
        "green_hex = '#4caf50'\n",
        "orange_hex = '#ff9f02'    #ffae29\n",
        "\n",
        "purple_hex = '#ad99e6'\n",
        "pink_hex = '#ff7dbe'\n",
        "brown_hex = '#997d6c'"
      ],
      "metadata": {
        "id": "qV4UALycH9B3"
      },
      "execution_count": null,
      "outputs": []
    },
    {
      "cell_type": "code",
      "source": [
        "def getLineStyleColor(dataName: str, modelName: str):\n",
        "    if (modelName == 'Random Forest') or (modelName == 'RNN'):\n",
        "        if dataName == 'org':\n",
        "            style = 'dashed'\n",
        "            color = brown_hex\n",
        "        elif dataName == 'def':\n",
        "            style = 'solid'\n",
        "            color = brown_hex\n",
        "        elif dataName == 'dec':\n",
        "            style = 'dashed'\n",
        "            color = purple_hex\n",
        "        elif dataName == 'dec_def':\n",
        "            style = 'solid'\n",
        "            color = purple_hex\n",
        "        elif dataName == 'season':\n",
        "            style = 'dashed'\n",
        "            color = pink_hex\n",
        "        elif dataName == 'season_def':\n",
        "            style = 'solid'\n",
        "            color = pink_hex\n",
        "\n",
        "    elif (modelName == 'XGB') or (modelName == 'LSTM') or (modelName == 'DNN'):\n",
        "        if dataName == 'org':\n",
        "            style = 'dashed'\n",
        "            color = blue_hex\n",
        "        elif dataName == 'def':\n",
        "            style = 'solid'\n",
        "            color = blue_hex\n",
        "        elif dataName == 'dec':\n",
        "            style = 'dashed'\n",
        "            color = green_hex\n",
        "        elif dataName == 'dec_def':\n",
        "            style = 'solid'\n",
        "            color = green_hex\n",
        "        elif dataName == 'season':\n",
        "            style = 'dashed'\n",
        "            color = orange_hex\n",
        "        elif dataName == 'season_def':\n",
        "            style = 'solid'\n",
        "            color = orange_hex\n",
        "    elif modelName == 'Benchmark':\n",
        "        style = 'solid'\n",
        "        color = blue_hex\n",
        "\n",
        "    return style, color"
      ],
      "metadata": {
        "id": "Y8o3EO0tCL9B"
      },
      "execution_count": null,
      "outputs": []
    },
    {
      "cell_type": "code",
      "source": [
        "# Figure size x (2023.04.08)\n",
        "comms_x = 30\n",
        "comms_x_large = 40"
      ],
      "metadata": {
        "id": "ThsmjKaIyNFI"
      },
      "execution_count": null,
      "outputs": []
    },
    {
      "cell_type": "markdown",
      "source": [
        "## **8.1 Expected v.s. Predicted**"
      ],
      "metadata": {
        "id": "YuGiNjgOoCD1"
      }
    },
    {
      "cell_type": "code",
      "execution_count": null,
      "metadata": {
        "id": "G2jz0PGwF7Gb"
      },
      "outputs": [],
      "source": [
        "# 畫出 Random Forest 或 XGB 或 RNN 或 LSTM 或 DNN 或 Benchmark 個別資料處理方式下的預測結果\n",
        "\n",
        "def plotPredictedValues(data: pd.DataFrame, name: str):\n",
        "\n",
        "    if name == 'benchmark':\n",
        "        modelName = 'Benchmark'\n",
        "        # Get line style and color\n",
        "        style, color = getLineStyleColor(name, modelName)\n",
        "\n",
        "        data_mean = data.mean(axis=0)\n",
        "        plt.plot(data_mean.index.to_series().astype(str), data_mean.values, label = f'{modelName}', linestyle = style, c = color)\n",
        "\n",
        "    else:\n",
        "        # Get model name\n",
        "        if name.split(\"_\")[-1] == 'rf':\n",
        "            modelName = 'Random Forest'\n",
        "        elif name.split(\"_\")[-1] == 'xgb':\n",
        "            modelName = 'XGB'\n",
        "        elif name.split(\"_\")[-1] == 'rnn':\n",
        "            modelName = 'RNN'\n",
        "        elif name.split(\"_\")[-1] == 'lstm':\n",
        "            modelName = 'LSTM'\n",
        "        elif name.split(\"_\")[-1] == 'dnn':\n",
        "            modelName = 'DNN'\n",
        "\n",
        "        # Get line style and color\n",
        "        style, color = getLineStyleColor(name.rsplit(\"_\", maxsplit=1)[0], modelName)\n",
        "\n",
        "        # Get data name\n",
        "        if name.rsplit(\"_\", maxsplit=1)[0] == 'org':\n",
        "            dataName = 'original'\n",
        "        elif name.rsplit(\"_\", maxsplit=1)[0] == 'def':\n",
        "            dataName = 'deflating'\n",
        "        elif name.rsplit(\"_\", maxsplit=1)[0] == 'dec':\n",
        "            dataName = 'decomposed'\n",
        "        elif name.rsplit(\"_\", maxsplit=1)[0] == 'dec_def':\n",
        "            dataName = 'decomposed_def'\n",
        "        elif name.rsplit(\"_\", maxsplit=1)[0] == 'season':\n",
        "            dataName = 'seasonal_adj'\n",
        "        elif name.rsplit(\"_\", maxsplit=1)[0] == 'season_def':\n",
        "            dataName = 'seasonal_def'\n",
        "\n",
        "        data_mean = data.mean(axis=0)\n",
        "        plt.plot(data_mean.index.to_series().astype(str), data_mean.values, label = f'{modelName} - {dataName}', linestyle = style, c = color)"
      ]
    },
    {
      "cell_type": "code",
      "source": [
        "# 畫出 Random Forest 或 XGB 或 RNN 或 LSTM 不同資料處理方式下的預測結果線\n",
        "\n",
        "def plotModelPredictedValues(pred, modelName: str):\n",
        "    if modelName == 'benchmark':    # pred is pd.DataFrame\n",
        "        plotPredictedValues(pred, f'{modelName}')\n",
        "    else:   # pred is dict\n",
        "        plotPredictedValues(pred['org']['org'], f'org_{modelName}')\n",
        "        plotPredictedValues(pred['def']['org'], f'def_{modelName}')\n",
        "        plotPredictedValues(pred['org']['dec'], f'dec_{modelName}')\n",
        "        plotPredictedValues(pred['def']['dec'], f'dec_def_{modelName}')\n",
        "        plotPredictedValues(pred['org']['season'], f'season_{modelName}')\n",
        "        plotPredictedValues(pred['def']['season'], f'season_def_{modelName}')"
      ],
      "metadata": {
        "id": "abyqSSzXhQUD"
      },
      "execution_count": null,
      "outputs": []
    },
    {
      "cell_type": "code",
      "source": [
        "# def plotExpectedPredictedRevenues(originalD: pd.DataFrame, org_rf: pd.DataFrame, def_rf: pd.DataFrame, dec_rf: pd.DataFrame, dec_def_rf: pd.DataFrame, season_rf: pd.DataFrame, season_def_rf: pd.DataFrame, org_xgb: pd.DataFrame, def_xgb: pd.DataFrame, dec_xgb: pd.DataFrame, dec_def_xgb: pd.DataFrame, season_xgb: pd.DataFrame, season_def_xgb: pd.DataFrame, test_year: int):\n",
        "def plotExpectedPredictedRevenues(originalD: pd.DataFrame, mod1: dict, mod2: dict, test_year: int, nn: bool = False):\n",
        "    '''\n",
        "    畫出 Random Forest 和 XGB 不同資料處理方式下的預測結果。\n",
        "    畫出 RNN 和 LSTM 不同資料處理方式下的預測結果。\n",
        "\n",
        "    Parameters\n",
        "    ----------\n",
        "    originalD: 原始資料集,\n",
        "    mod1: Random Forest 或 RNN 的預測結果,\n",
        "    mod2: XGB 或 LSTM 的預測結果,\n",
        "    test_year: 測試資料開始年份,\n",
        "    nn: 是不是 RNN 和 LSTM (default = False)\n",
        "    '''\n",
        "    if test_year == 2007:\n",
        "        org_mean = originalD.iloc[:, -192:].mean(axis=0)  # 2007-01\n",
        "    elif test_year == 2018:\n",
        "        org_mean = originalD.iloc[:, -60:].mean(axis=0)   # 2018-01\n",
        "    elif test_year == 2019:\n",
        "        org_mean = originalD.iloc[:, -47:].mean(axis=0)   # 2019-02\n",
        "    elif test_year == 2020:\n",
        "        org_mean = originalD.iloc[:, -36:].mean(axis=0)   # 2020-01\n",
        "\n",
        "    # Plot\n",
        "    if test_year == 2007:\n",
        "        plt.figure(figsize = (comms_x_large,10))\n",
        "    else:\n",
        "        plt.figure(figsize = (15,10))\n",
        "    plt.title(f\"Expected v.s Predicted Monthly Revenues ({test_year}-2022)\",size = 14)\n",
        "    plt.plot(org_mean.index.to_series().astype(str), org_mean.values, label = \"Expected\", color = 'r')\n",
        "\n",
        "    if nn == True:\n",
        "        plotModelPredictedValues(mod1, 'rnn')\n",
        "        plotModelPredictedValues(mod2, 'lstm')\n",
        "    else:\n",
        "        plotModelPredictedValues(mod1, 'rf')\n",
        "        plotModelPredictedValues(mod2, 'xgb')\n",
        "        # plotModelPredictedValues(org_rf, def_rf, dec_rf, dec_def_rf, season_rf, season_def_rf, 'rf')\n",
        "        # plotModelPredictedValues(org_xgb, def_xgb, dec_xgb, dec_def_xgb, season_xgb, season_def_xgb, 'xgb')\n",
        "\n",
        "    plt.xticks(range(0, len(org_mean.index), 2), org_mean.index[::2], rotation=90)\n",
        "    plt.legend(bbox_to_anchor = (1,1),loc = 'upper left')\n",
        "    plt.show()"
      ],
      "metadata": {
        "id": "lp1xWD0TaXvh"
      },
      "execution_count": null,
      "outputs": []
    },
    {
      "cell_type": "code",
      "source": [
        "# def plotModelExpectedPredictedRevenues(originalD: pd.DataFrame, org: pd.DataFrame, deflate: pd.DataFrame, dec: pd.DataFrame, dec_def: pd.DataFrame, season: pd.DataFrame, season_def: pd.DataFrame, modelName: str, test_year: int):\n",
        "def plotModelExpectedPredictedRevenues(originalD: pd.DataFrame, pred: dict, modelName: str, test_year: int):\n",
        "    '''\n",
        "    畫出 Random Forest 或 XGB 或 RNN 或 LSTM 或 DNN 或 Benchmark 不同資料處理方式下的預測結果。\n",
        "\n",
        "    Parameters\n",
        "    ----------\n",
        "    originalD: 原始資料集,\n",
        "    pred: 預測結果,\n",
        "    modelName: | 'rf' | 'xgb' | 'rnn' | 'lstm' | 'dnn' | 'benchmark' |,\n",
        "    test_year: 測試資料開始年份,\n",
        "    '''\n",
        "    if test_year == 2007:\n",
        "        org_mean = originalD.iloc[:, -192:].mean(axis=0)  # 2007-01\n",
        "    elif test_year == 2018:\n",
        "        org_mean = originalD.iloc[:, -60:].mean(axis=0)   # 2018-01\n",
        "    elif test_year == 2019:\n",
        "        org_mean = originalD.iloc[:, -47:].mean(axis=0)   # 2019-02\n",
        "    elif test_year == 2020:\n",
        "        org_mean = originalD.iloc[:, -36:].mean(axis=0)   # 2020-01\n",
        "\n",
        "    if modelName == 'rf':\n",
        "        name = 'Random Forest'\n",
        "    elif modelName == 'xgb':\n",
        "        name = 'XGB'\n",
        "    elif modelName == 'rnn':\n",
        "        name = 'RNN'\n",
        "    elif modelName == 'lstm':\n",
        "        name = 'LSTM'\n",
        "    elif modelName == 'dnn':\n",
        "        name = 'DNN'\n",
        "    elif modelName == 'benchmark':\n",
        "        name = 'Benchmark'\n",
        "\n",
        "    # Plot\n",
        "    if test_year == 2007:\n",
        "        plt.figure(figsize = (comms_x_large,10))\n",
        "    else:\n",
        "        plt.figure(figsize = (15,10))\n",
        "    plt.title(f\"Expected v.s Predicted Monthly Revenues - {name} ({test_year}-2022)\", size = 14)\n",
        "    plt.plot(org_mean.index.to_series().astype(str), org_mean.values, label = \"Expected\", color = 'r')\n",
        "    plotModelPredictedValues(pred, modelName)\n",
        "    # plotModelPredictedValues(org, deflate, dec, dec_def, season, season_def, modelName)\n",
        "    plt.xticks(range(0, len(org_mean.index), 2), org_mean.index[::2], rotation=90)\n",
        "    plt.legend(bbox_to_anchor = (1,1),loc = 'upper left')\n",
        "    plt.show()"
      ],
      "metadata": {
        "id": "FdmGk5oiqDSS"
      },
      "execution_count": null,
      "outputs": []
    },
    {
      "cell_type": "markdown",
      "source": [
        "## **8.2 Scores: RMSE, MAPE, MAE, MAE%**"
      ],
      "metadata": {
        "id": "5uAGU3T-oleN"
      }
    },
    {
      "cell_type": "code",
      "source": [
        "# 畫出 Random Forest 或 XGB 或 RNN 或 LSTM 或 DNN 或 Benchmark 不同資料處理方式下的單一預測分數\n",
        "\n",
        "def plotModelLine(scoresD: pd.DataFrame, score: str, modelName: str):\n",
        "\n",
        "    # Plot line\n",
        "    if modelName == 'Benchmark':\n",
        "        plt.plot(scoresD.index, f'{score}-benchmark', data = scoresD, label = f\"{modelName}\", linestyle = getLineStyleColor('benchmark', modelName)[0], c = getLineStyleColor('benchmark', modelName)[1])\n",
        "    else:\n",
        "        plt.plot(scoresD.index, f'{score}-org', data = scoresD, label = f\"{modelName} - org\", linestyle = getLineStyleColor('org', modelName)[0], c = getLineStyleColor('org', modelName)[1])\n",
        "        plt.plot(scoresD.index, f'{score}-def', data = scoresD, label = f\"{modelName} - deflating\", linestyle = getLineStyleColor('def', modelName)[0], c = getLineStyleColor('def', modelName)[1])\n",
        "        plt.plot(scoresD.index, f'{score}-dec', data = scoresD, label = f\"{modelName} - decomposed\", linestyle = getLineStyleColor('dec', modelName)[0], c = getLineStyleColor('dec', modelName)[1])\n",
        "        plt.plot(scoresD.index, f'{score}-dec_def', data = scoresD, label = f\"{modelName} - decomposed_def\", linestyle = getLineStyleColor('dec_def', modelName)[0], c = getLineStyleColor('dec_def', modelName)[1])\n",
        "        plt.plot(scoresD.index, f'{score}-season', data = scoresD, label = f\"{modelName} - seaonal_adj\", linestyle = getLineStyleColor('season', modelName)[0], c = getLineStyleColor('season', modelName)[1])\n",
        "        plt.plot(scoresD.index, f'{score}-season_def', data = scoresD, label = f\"{modelName} - seaonal_def\", linestyle = getLineStyleColor('season_def', modelName)[0], c = getLineStyleColor('season_def', modelName)[1])\n"
      ],
      "metadata": {
        "id": "Gh452MnjJT2B"
      },
      "execution_count": null,
      "outputs": []
    },
    {
      "cell_type": "markdown",
      "source": [
        "### **8.2.1 Plot All Scores**"
      ],
      "metadata": {
        "id": "ZWlvhES7o3T6"
      }
    },
    {
      "cell_type": "code",
      "execution_count": null,
      "metadata": {
        "id": "AbvJJY76Qtmn"
      },
      "outputs": [],
      "source": [
        "# 畫出 Random Forest 和 XGB 不同資料處理方式下的單一預測分數線\n",
        "# 畫出 RNN 和 LSTM 不同資料處理方式下的單一預測分數線\n",
        "\n",
        "def plotAllModelScore(mod1: pd.DataFrame, mod2: pd.DataFrame, score: str, test_y: int, nn: bool):\n",
        "    if test_y == 2007:\n",
        "        plt.figure(figsize = (comms_x,4))\n",
        "    else:\n",
        "        plt.figure(figsize = (15,4))\n",
        "\n",
        "    if nn == True:\n",
        "        plt.title(f\"{score} of RNN and LSTM \\n with Different Types of Data ({test_y}-2022)\", size = 14)\n",
        "        plotModelLine(mod1, score, 'RNN')\n",
        "        plotModelLine(mod2, score, 'LSTM')\n",
        "    else:\n",
        "        plt.title(f\"{score} of Random Forest and XGB \\n with Different Types of Data ({test_y}-2022)\", size = 14)\n",
        "        plotModelLine(mod1, score, 'Random Forest')\n",
        "        plotModelLine(mod2, score, 'XGB')\n",
        "\n",
        "    plt.xticks(range(0, len(mod1.index), 2), mod2.index[::2], rotation=90)\n",
        "    plt.legend(bbox_to_anchor = (1,1), loc = 'upper left')\n",
        "    plt.show()"
      ]
    },
    {
      "cell_type": "code",
      "source": [
        "def plotAllScores(mod1: pd.DataFrame, mod2: pd.DataFrame, test_y: int, nn: bool = False):\n",
        "    '''\n",
        "    畫出 Random Forest 和 XGB 不同資料處理方式下的所有預測分數。\n",
        "    畫出 RNN 和 LSTM 不同資料處理方式下的所有預測分數。\n",
        "\n",
        "    Parameters\n",
        "    ----------\n",
        "    mod1: Random Forest 或 RNN 的預測分數,\n",
        "    mod2: XGB 或 LSTM 的預測分數,\n",
        "    test_y: 測試資料開始年,\n",
        "    nn: 是不是 RNN 和 LSTM (default = False)\n",
        "    '''\n",
        "    # RMSE\n",
        "    plotAllModelScore(mod1, mod2, 'RMSE', test_y, nn)\n",
        "    # MAPE\n",
        "    plotAllModelScore(mod1, mod2, 'MAPE', test_y, nn)\n",
        "    # MAE\n",
        "    plotAllModelScore(mod1, mod2, 'MAE', test_y, nn)\n",
        "    # MAE%\n",
        "    plotAllModelScore(mod1, mod2, 'MAE%', test_y, nn)"
      ],
      "metadata": {
        "id": "Rr4jYvymNOaf"
      },
      "execution_count": null,
      "outputs": []
    },
    {
      "cell_type": "markdown",
      "source": [
        "### **8.2.2 分模型畫圖**"
      ],
      "metadata": {
        "id": "qLw6yFlApIch"
      }
    },
    {
      "cell_type": "code",
      "source": [
        "def plotModelScore(scoreD: pd.DataFrame, modelName: str, score: str, test_y: int):\n",
        "    '''\n",
        "    畫出單一模型 (Random Forest 或 XGB 或 RNN 或 LSTM 或 DNN 或 Benchmark) 不同資料處理方式下的單一預測分數。\n",
        "\n",
        "    Parameters\n",
        "    ----------\n",
        "    scoreD: 單一模型的預測分數,\n",
        "    modelName: | 'Random Forest' | 'XGB' | 'RNN' | 'LSTM' | 'DNN' | 'Benchmark' |,\n",
        "    score: | 'RMSE' | 'MAPE' | 'MAE' | 'MAE%' |\n",
        "    test_y: 測試資料開始年\n",
        "    '''\n",
        "    if test_y == 2007:\n",
        "        plt.figure(figsize = (comms_x,4))\n",
        "    else:\n",
        "        plt.figure(figsize = (15,4))\n",
        "    plt.title(f\"{score} of {modelName} \\n with Different Types of Data ({test_y}-2022)\", size = 14)\n",
        "    plotModelLine(scoreD, score, modelName)\n",
        "    plt.xticks(range(0, len(scoreD.index), 2), scoreD.index[::2], rotation=90)\n",
        "    plt.legend(bbox_to_anchor = (1,1),loc = 'upper left')\n",
        "    plt.show()"
      ],
      "metadata": {
        "id": "05i81JicXsAk"
      },
      "execution_count": null,
      "outputs": []
    },
    {
      "cell_type": "code",
      "source": [
        "def compareModelScore(mod1: pd.DataFrame, mod2: pd.DataFrame, score: str, test_y: int, nn: bool = False):\n",
        "    '''\n",
        "    畫出 Random Forest 和 XGB 不同資料處理方式下的單一預測分數。\n",
        "    畫出 RNN 和 LSTM 不同資料處理方式下的單一預測分數。\n",
        "\n",
        "    Parameters\n",
        "    ----------\n",
        "    mod1: Random Forest 或 RNN 的預測分數,\n",
        "    mod2: XGB 或 LSTM 的預測分數,\n",
        "    score: | 'RMSE' | 'MAPE' | 'MAE' | 'MAE%' |\n",
        "    test_y: 測試資料開始年,\n",
        "    nn: 是不是 RNN 和 LSTM (default = False)\n",
        "    '''\n",
        "    if nn == True:\n",
        "        plotModelScore(mod1, 'RNN', score, test_y)\n",
        "        plotModelScore(mod2, 'LSTM', score, test_y)\n",
        "    else:\n",
        "        plotModelScore(mod1, 'Random Forest', score, test_y)\n",
        "        plotModelScore(mod2, 'XGB', score, test_y)"
      ],
      "metadata": {
        "id": "wDk1yALkY7Jj"
      },
      "execution_count": null,
      "outputs": []
    },
    {
      "cell_type": "markdown",
      "source": [
        "### **8.2.3 Boxplot**"
      ],
      "metadata": {
        "id": "pe-QwL9cpnIf"
      }
    },
    {
      "cell_type": "code",
      "execution_count": null,
      "metadata": {
        "id": "9MvgDl5DRe7g"
      },
      "outputs": [],
      "source": [
        "def scoreBoxplotV(mod1: pd.DataFrame, mod2: pd.DataFrame, score: str, test_y: int, nn: bool = False):\n",
        "    '''\n",
        "    畫出 Random Forest 和 XGB 不同資料處理方式下的預測分數 Boxplot。\n",
        "    畫出 RNN 和 LSTM 不同資料處理方式下的預測分數 Boxplot。\n",
        "\n",
        "    Parameters\n",
        "    ----------\n",
        "    mod1: Random Forest 或 RNN 的預測分數,\n",
        "    mod2: XGB 或 LSTM 的預測分數,\n",
        "    score: | 'RMSE' | 'MAPE' | 'MAE' | 'MAE%' |\n",
        "    test_y: 測試資料開始年\n",
        "    nn: 是不是 RNN 和 LSTM (default = False)\n",
        "    '''\n",
        "    plt.figure(figsize = (15,4))\n",
        "    plt.title(f\"{score} ({test_y}-2022)\", size = 14)\n",
        "    col = [f'{score}-org', f'{score}-def', f'{score}-dec', f'{score}-dec_def', f'{score}-season', f'{score}-season_def']\n",
        "    scoreD = pd.concat([mod1[col], mod2[col]], axis=1)\n",
        "    plt.boxplot(scoreD)\n",
        "\n",
        "    if nn == True:\n",
        "        plt.xticks([1, 2, 3, 4, 5, 6, 7, 8, 9, 10, 11, 12], ['RNN - \\n orginal', 'RNN - \\n deflating', 'RNN - \\n decomposed', 'RNN - \\n decomposed_def', 'RNN - \\n seasonal_adj', 'RNN - \\n seasonal_def', 'LSTM - \\n orginal', 'LSTM - \\n deflating', 'LSTM - \\n decomposed', 'LSTM - \\n decomposed_def', 'LSTM - \\n seasonal_adj', 'LSTM - \\n seasonal_def'], rotation = 25)\n",
        "    else:\n",
        "        plt.xticks([1, 2, 3, 4, 5, 6, 7, 8, 9, 10, 11, 12], ['Random Forest - \\n orginal', 'Random Forest - \\n deflating', 'Random Forest - \\n decomposed', 'Random Forest - \\n decomposed_def', 'Random Forest - \\n seasonal_adj', 'Random Forest - \\n seasonal_def', 'XGB - orginal', 'XGB - deflating', 'XGB - decomposed', 'XGB - decomposed_def', 'XGB - seasonal_adj', 'XGB - \\n seasonal_def'], rotation = 25)\n",
        "\n",
        "    plt.show()"
      ]
    },
    {
      "cell_type": "code",
      "source": [
        "# 2023.05.13\n",
        "def modelScoreBoxplotV(scoreD: pd.DataFrame, score: str, test_y: int, benchmark: bool = False):\n",
        "    '''\n",
        "    畫出單一模型 (Random Forest 或 XGB 或 RNN 或 LSTM 或 DNN 或 Benchmark) 不同資料處理方式下的預測分數 Boxplot。\n",
        "\n",
        "    Parameters\n",
        "    ----------\n",
        "    scoreD: 單一模型的預測分數,\n",
        "    score: | 'RMSE' | 'MAPE' | 'MAE' | 'MAE%' |,\n",
        "    test_y: 測試資料開始年,\n",
        "    benchmark: 是否為 benchmark (default = False)\n",
        "    '''\n",
        "    if benchmark == True:\n",
        "        plt.figure(figsize = (8,4))\n",
        "        plt.title(f\"{score} ({test_y}-2022)\", size = 14)\n",
        "        col = [f'{score}-benchmark']\n",
        "        scoreD = scoreD[col]\n",
        "        plt.boxplot(scoreD)\n",
        "        plt.xticks([1], ['Benchmark'], rotation = 0)\n",
        "        plt.show()\n",
        "    else:\n",
        "        plt.figure(figsize = (15,4))\n",
        "        plt.title(f\"{score} ({test_y}-2022)\", size = 14)\n",
        "        col = [f'{score}-org', f'{score}-def', f'{score}-dec', f'{score}-dec_def', f'{score}-season', f'{score}-season_def']\n",
        "        scoreD = scoreD[col]\n",
        "        plt.boxplot(scoreD)\n",
        "        plt.xticks([1, 2, 3, 4, 5, 6], ['DNN - orginal', 'DNN - deflating', 'DNN - decomposed', 'DNN - decomposed_def', 'DNN - seasonal_adj', 'DNN - seasonal_def'], rotation = 25)\n",
        "        plt.show()"
      ],
      "metadata": {
        "id": "wx5Nf0rJmNIK"
      },
      "execution_count": null,
      "outputs": []
    },
    {
      "cell_type": "markdown",
      "source": [
        "## **8.3 Feature Importance**"
      ],
      "metadata": {
        "id": "6pxafn0fp2h1"
      }
    },
    {
      "cell_type": "code",
      "source": [
        "# 畫出 Random Forest 或 XGB 個別資料處理方式下的 Top k 重要變數\n",
        "\n",
        "def plotModelFeatureImportance(featureD: pd.DataFrame, modelName: str, dataName: str, detail: str, k: int = 48):\n",
        "    imp_mean = featureD.abs().mean(axis=1)     # 對所有年月的變數重要性做平均\n",
        "    imp_mean = imp_mean.sort_values()    # 由小到大做排序\n",
        "    imp_mean = imp_mean.iloc[-k:, ]      # top k\n",
        "\n",
        "    plt.title(f\"Feature Importance of {modelName} - \\n{dataName} ({detail})\", size = 14)\n",
        "    plt.barh(y = imp_mean.index, width = imp_mean.values, data = imp_mean, color = purple_hex)\n",
        "    for a, b in zip(range(imp_mean.shape[0]), imp_mean.values):\n",
        "        plt.text(b*1.01, a-0.25, '%.3f' % b)\n",
        "    plt.xlim([0, max(imp_mean)*1.15])\n",
        "    plt.ylim([-0.65, imp_mean.shape[0]])\n",
        "    plt.xticks(rotation = 45)"
      ],
      "metadata": {
        "id": "1SnbHLN2poe-"
      },
      "execution_count": null,
      "outputs": []
    },
    {
      "cell_type": "code",
      "source": [
        "def plotFeatureImportance(feature_rf: pd.DataFrame, feature_xgb: pd.DataFrame, dataName: str, test_year: int, k: int = 48):\n",
        "    '''\n",
        "    畫出 Random Forest 和 XGB 個別資料處理方式下的 Top k 重要變數。\n",
        "\n",
        "    Parameters\n",
        "    ----------\n",
        "    feature_rf, feature_xgb: Random Forest 和 XGB 在單一資料處理方式下的變數重要性,\n",
        "    dataName: | 'org' | 'def' | 'dec' | 'dec_def' | 'season' | 'season_def' |,\n",
        "    test_year: 測試資料集開始年份,\n",
        "    k: <= 49 (default = 48)\n",
        "    '''\n",
        "\n",
        "    if dataName == 'org':\n",
        "        name = 'Original Data'\n",
        "    elif dataName == 'def':\n",
        "        name = 'Deflating Data'\n",
        "    elif dataName == 'dec':\n",
        "        name = 'Decomposed Data'\n",
        "    elif dataName == 'dec_def':\n",
        "        name = 'Decomposed Data + Deflating'\n",
        "    elif dataName == 'season':\n",
        "        name = 'Data without Seasonality'\n",
        "    elif dataName == 'season_def':\n",
        "        name = 'Data without Seasonality + Deflating'\n",
        "\n",
        "    if k > 49:\n",
        "        print(\"Please select a number smaller than or equal to 49 for top k.\")\n",
        "    else:\n",
        "        plt.figure(figsize=(15,10))\n",
        "        # Random Forest - Original\n",
        "        plt.subplot(1,2,1)\n",
        "        plotModelFeatureImportance(feature_rf, 'Random Forest Regressor', name, f'{test_year}-2022', k)\n",
        "        # XGB - Original\n",
        "        plt.subplot(1,2,2)\n",
        "        plotModelFeatureImportance(feature_xgb, 'XGB Regressor', name, f'{test_year}-2022', k)\n",
        "        plt.show()"
      ],
      "metadata": {
        "id": "QsszfaHSzbC5"
      },
      "execution_count": null,
      "outputs": []
    },
    {
      "cell_type": "markdown",
      "source": [
        "## **9. Best and Worst Model - Feature Importance**\n",
        "2023.04.05"
      ],
      "metadata": {
        "id": "ZEjQoN6qeC4C"
      }
    },
    {
      "cell_type": "code",
      "source": [
        "class BestWorstModelFeatureImportancePlot():\n",
        "    '''\n",
        "    Parameters\n",
        "    ----------\n",
        "    feature_rf, feature_xgb: Random Forest 和 XGB 在各資料處理方式下的變數重要性。\n",
        "    best_rf, worst_rf: Random Forest 在各個衡量指標下最好和最差的模型。\n",
        "    best_xgb, worst_xgb: Random Forest 在各個衡量指標下最好和最差的模型。\n",
        "    test_year: 測試資料開始年份。\n",
        "\n",
        "    Methods\n",
        "    ----------\n",
        "    plotBestWorstFeatureImportance(scoreType: str, k: int, all: bool):\n",
        "        scoreType: | 'RMSE' | 'MAPE' | 'MAE' | 'MAE%' |,\n",
        "        k: Top k 重要變數 <= 10 (default = 5),\n",
        "        all: 是否為找出所有模型中最好和最佳模型 (default = False)\n",
        "    '''\n",
        "\n",
        "    def __init__(self, feature_rf: pd.DataFrame, feature_xgb: pd.DataFrame, best_rf: pd.DataFrame, worst_rf: pd.DataFrame, best_xgb: pd.DataFrame, worst_xgb: pd.DataFrame, best_all: pd.DataFrame, worst_all: pd.DataFrame, test_year: int):\n",
        "        self.feature_rf = feature_rf\n",
        "        self.feature_xgb = feature_xgb\n",
        "        self.best_rf = best_rf\n",
        "        self.worst_rf = worst_rf\n",
        "        self.best_xgb = best_xgb\n",
        "        self.worst_xgb = worst_xgb\n",
        "        self.best_all = best_all\n",
        "        self.worst_all = worst_all\n",
        "        self.test_year = test_year\n",
        "\n",
        "\n",
        "    def plotSingleFeatureImportance(self, feature_importance: dict, modelName: str, dataType: str, month: str, best_or_worst: str, k: int):\n",
        "        '''\n",
        "        畫出 best 或 worst model 的 feature importance。\n",
        "        '''\n",
        "        # Data Type\n",
        "        if dataType == 'org':\n",
        "            name = 'Original Data'\n",
        "            key1 = 'org'\n",
        "            key2 = 'org'\n",
        "        elif dataType == 'def':\n",
        "            name = 'Deflating Data'\n",
        "            key1 = 'def'\n",
        "            key2 = 'org'\n",
        "        elif dataType == 'dec':\n",
        "            name = 'Decomposed Data'\n",
        "            key1 = 'org'\n",
        "            key2 = 'dec'\n",
        "        elif dataType == 'dec_def':\n",
        "            name = 'Decomposed Data + Deflating'\n",
        "            key1 = 'def'\n",
        "            key2 = 'dec'\n",
        "        elif dataType == 'season':\n",
        "            name = 'Data without Seasonality'\n",
        "            key1 = 'org'\n",
        "            key2 = 'season'\n",
        "        elif dataType == 'season_def':\n",
        "            name = 'Data without Seasonality + Deflating'\n",
        "            key1 = 'def'\n",
        "            key2 = 'season'\n",
        "\n",
        "        feature = feature_importance[key1][key2][month]   # 最好 or 最差模型的 feature importance\n",
        "        feature = feature.sort_values()                     # 由小到大做排序\n",
        "        feature = feature.iloc[-k:, ]                       # Top k\n",
        "\n",
        "        # Plot\n",
        "        plt.title(f\"Feature Importance of {modelName} {best_or_worst} Model - \\n{name} ({self.test_year}-2022)\", size = 14)\n",
        "        plt.barh(y = feature.index, width = feature.values, data = feature, color = purple_hex)\n",
        "        for a, b in zip(range(feature.shape[0]), feature.values):\n",
        "            plt.text(b*1.01, a-0.1, '%.3f' % b)\n",
        "            # plt.text(b*1.01, a-0.25, '%.3f' % b)\n",
        "        plt.xlim([0, max(feature)*1.15])\n",
        "        plt.ylim([-0.65, feature.shape[0]])\n",
        "        plt.xticks(rotation = 45)\n",
        "\n",
        "\n",
        "    def plotModelBestWorstFeatureImportance(self, modelName: str, dataType: list, month: list, k: int):\n",
        "        '''\n",
        "        畫出 Random Forest 或 XGB 最好和最差模型的 Top k 重要變數。\n",
        "\n",
        "        Parameters\n",
        "        ----------\n",
        "        modelName: | 'Random Forest' | 'XGB' |,\n",
        "        dataType: [最佳模型的 data type, 最差模型的 data type],\n",
        "        month: [最佳模型的月份, 最差模型的月份],\n",
        "        k: Top k 重要變數 <= 10 (default = 5)\n",
        "        '''\n",
        "\n",
        "        # Model\n",
        "        if modelName == \"Random Forest\":\n",
        "            feature_importance = self.feature_rf\n",
        "        elif modelName == \"XGB\":\n",
        "            feature_importance = self.feature_xgb\n",
        "\n",
        "        # Plot\n",
        "        plt.figure(figsize=(15,3))\n",
        "        # Model - Best\n",
        "        plt.subplot(1,2,1)\n",
        "        self.plotSingleFeatureImportance(feature_importance, modelName, dataType[0], month[0], \"Best\", k)\n",
        "        # Model - Worst\n",
        "        plt.subplot(1,2,2)\n",
        "        self.plotSingleFeatureImportance(feature_importance, modelName, dataType[1], month[1], \"Worst\", k)\n",
        "        plt.show()\n",
        "\n",
        "\n",
        "    def plotBestWorstFeatureImportance(self, scoreType: str, k: int = 5, all: bool = False):\n",
        "        '''\n",
        "        畫出 Random Forest 和 XGB 最好和最差模型的 Top k 重要變數。\n",
        "\n",
        "        Parameters\n",
        "        ----------\n",
        "        scoreType: | 'RMSE' | 'MAPE' | 'MAE' | 'MAE%' |,\n",
        "        k: Top k 重要變數 <= 10 (default = 5),\n",
        "        all: 是否為找出所有模型中最好和最佳模型 (default = False)\n",
        "        '''\n",
        "\n",
        "        if k > 10:\n",
        "            print(\"Please select a number smaller than or equal to 10 for top k.\")\n",
        "        else:\n",
        "            if all == False:\n",
        "                dataName_rf = [self.best_rf[scoreType].iloc[0]['dataType'], self.worst_rf[scoreType].iloc[0]['dataType']]\n",
        "                dataName_xgb = [self.best_xgb[scoreType].iloc[0]['dataType'], self.worst_xgb[scoreType].iloc[0]['dataType']]\n",
        "                month_rf = [self.best_rf[scoreType].iloc[0]['min_month'], self.worst_rf[scoreType].iloc[0]['max_month']]\n",
        "                month_xgb = [self.best_xgb[scoreType].iloc[0]['min_month'], self.worst_xgb[scoreType].iloc[0]['max_month']]\n",
        "                # Random Forest\n",
        "                self.plotModelBestWorstFeatureImportance('Random Forest', dataName_rf, month_rf, k)\n",
        "                # XGB\n",
        "                self.plotModelBestWorstFeatureImportance('XGB', dataName_xgb, month_xgb, k)\n",
        "\n",
        "            else:\n",
        "                dataName_all = [self.best_all[scoreType].iloc[0]['dataType'], self.worst_all[scoreType].iloc[0]['dataType']]\n",
        "                month_all = [self.best_all[scoreType].iloc[0]['min_month'], self.worst_all[scoreType].iloc[0]['max_month']]\n",
        "                self.plotModelBestWorstFeatureImportance(self.best_all[scoreType].iloc[0]['modelName'], dataName_all, month_all, k)\n"
      ],
      "metadata": {
        "id": "TSzZY0fPCLK2"
      },
      "execution_count": null,
      "outputs": []
    }
  ]
}