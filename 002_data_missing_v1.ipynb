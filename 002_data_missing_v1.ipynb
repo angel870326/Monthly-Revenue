{
  "cells": [
    {
      "cell_type": "markdown",
      "metadata": {
        "id": "view-in-github",
        "colab_type": "text"
      },
      "source": [
        "<a href=\"https://colab.research.google.com/github/angel870326/Monthly-Revenue/blob/main/002_data_missing_v1.ipynb\" target=\"_parent\"><img src=\"https://colab.research.google.com/assets/colab-badge.svg\" alt=\"Open In Colab\"/></a>"
      ]
    },
    {
      "cell_type": "markdown",
      "metadata": {
        "id": "d3UyvF37PpZp"
      },
      "source": [
        "> 2023.02.28 Ssu-Yun Wang<br/>\n",
        "[Github @angel870326](https://github.com/angel870326)\n",
        "\n",
        "# **Update Missing Values from TWSE MOPS**\n",
        "\n",
        "### Contents\n",
        "\n",
        "1.  Missing Values\n",
        "2.  Reformat\n",
        "3.  Web Crawler Function\n",
        "    *   每月營收彙總報表 (Not recommended)\n",
        "    *   個別公司每月營收\n",
        "4.  Update Missing Values from TWSE MOPS\n",
        "    *   *For update**\n",
        "    *   Functions\n",
        "    *   金融業\n",
        "    *   非金融業\n",
        "5.  Output Data\n",
        "\n",
        "\n",
        "#### Notes\n",
        "\n",
        "*   若是第一次抓取月營收資料，不要執行 *4.0 For update*\n",
        "*   再次確認是否有沒抓到的資料，不需要執行 *1. Missing Values* 和 *2. Reformat*，執行 *4.0 For update* 即可\n",
        "\n",
        "\n",
        "\n",
        "\n"
      ]
    },
    {
      "cell_type": "code",
      "execution_count": 1,
      "metadata": {
        "colab": {
          "base_uri": "https://localhost:8080/"
        },
        "id": "rfdgj4Ao7KJJ",
        "outputId": "38413235-ebc4-4d3b-e630-3380571aea63"
      },
      "outputs": [
        {
          "output_type": "stream",
          "name": "stdout",
          "text": [
            "Mounted at /content/gdrive\n"
          ]
        }
      ],
      "source": [
        "# sConnect to the Google Drive\n",
        "from google.colab import drive\n",
        "drive.mount(\"/content/gdrive\")"
      ]
    },
    {
      "cell_type": "code",
      "execution_count": 2,
      "metadata": {
        "id": "slbXx6QP7YMb"
      },
      "outputs": [],
      "source": [
        "import os\n",
        "import pandas as pd\n",
        "import numpy as np\n",
        "# import matplotlib.pyplot as plt"
      ]
    },
    {
      "cell_type": "markdown",
      "metadata": {
        "id": "y0VSj8s_Pxeh"
      },
      "source": [
        "## **1. Missing Values**\n",
        "From *001_data_partitioning_v1.ipynb*"
      ]
    },
    {
      "cell_type": "code",
      "execution_count": null,
      "metadata": {
        "id": "ACjYggPzYfc1"
      },
      "outputs": [],
      "source": [
        "# Data path\n",
        "original_data_path = '/content/gdrive/Shareddrives/Me/論文/資料集/001_v1'"
      ]
    },
    {
      "cell_type": "code",
      "execution_count": null,
      "metadata": {
        "colab": {
          "base_uri": "https://localhost:8080/"
        },
        "id": "Jx0CnSfM9Qvd",
        "outputId": "06a2d97c-7ee4-4422-ac16-3e0f2c8d3a3b"
      },
      "outputs": [
        {
          "name": "stdout",
          "output_type": "stream",
          "text": [
            "金融業 (15, 3)\n",
            "非金融業 (176, 3)\n"
          ]
        },
        {
          "data": {
            "text/html": [
              "\n",
              "  <div id=\"df-dfea9f1f-6c2b-4d2e-bbe4-621bc629c299\">\n",
              "    <div class=\"colab-df-container\">\n",
              "      <div>\n",
              "<style scoped>\n",
              "    .dataframe tbody tr th:only-of-type {\n",
              "        vertical-align: middle;\n",
              "    }\n",
              "\n",
              "    .dataframe tbody tr th {\n",
              "        vertical-align: top;\n",
              "    }\n",
              "\n",
              "    .dataframe thead th {\n",
              "        text-align: right;\n",
              "    }\n",
              "</style>\n",
              "<table border=\"1\" class=\"dataframe\">\n",
              "  <thead>\n",
              "    <tr style=\"text-align: right;\">\n",
              "      <th></th>\n",
              "      <th>公司</th>\n",
              "      <th>Start date</th>\n",
              "      <th>Num of contig NaN</th>\n",
              "    </tr>\n",
              "  </thead>\n",
              "  <tbody>\n",
              "    <tr>\n",
              "      <th>0</th>\n",
              "      <td>5876 上海商銀</td>\n",
              "      <td>1998-06</td>\n",
              "      <td>7</td>\n",
              "    </tr>\n",
              "    <tr>\n",
              "      <th>1</th>\n",
              "      <td>5876 上海商銀</td>\n",
              "      <td>1999-06</td>\n",
              "      <td>7</td>\n",
              "    </tr>\n",
              "    <tr>\n",
              "      <th>2</th>\n",
              "      <td>5876 上海商銀</td>\n",
              "      <td>2000-06</td>\n",
              "      <td>7</td>\n",
              "    </tr>\n",
              "    <tr>\n",
              "      <th>3</th>\n",
              "      <td>5876 上海商銀</td>\n",
              "      <td>2001-06</td>\n",
              "      <td>7</td>\n",
              "    </tr>\n",
              "    <tr>\n",
              "      <th>4</th>\n",
              "      <td>5876 上海商銀</td>\n",
              "      <td>2002-06</td>\n",
              "      <td>7</td>\n",
              "    </tr>\n",
              "    <tr>\n",
              "      <th>5</th>\n",
              "      <td>5876 上海商銀</td>\n",
              "      <td>2003-06</td>\n",
              "      <td>7</td>\n",
              "    </tr>\n",
              "    <tr>\n",
              "      <th>6</th>\n",
              "      <td>5876 上海商銀</td>\n",
              "      <td>2004-06</td>\n",
              "      <td>8</td>\n",
              "    </tr>\n",
              "    <tr>\n",
              "      <th>7</th>\n",
              "      <td>5876 上海商銀</td>\n",
              "      <td>2005-06</td>\n",
              "      <td>9</td>\n",
              "    </tr>\n",
              "    <tr>\n",
              "      <th>8</th>\n",
              "      <td>5876 上海商銀</td>\n",
              "      <td>2006-06</td>\n",
              "      <td>10</td>\n",
              "    </tr>\n",
              "    <tr>\n",
              "      <th>9</th>\n",
              "      <td>5876 上海商銀</td>\n",
              "      <td>2007-06</td>\n",
              "      <td>10</td>\n",
              "    </tr>\n",
              "    <tr>\n",
              "      <th>10</th>\n",
              "      <td>5876 上海商銀</td>\n",
              "      <td>2008-06</td>\n",
              "      <td>41</td>\n",
              "    </tr>\n",
              "    <tr>\n",
              "      <th>11</th>\n",
              "      <td>5876 上海商銀</td>\n",
              "      <td>2012-01</td>\n",
              "      <td>10</td>\n",
              "    </tr>\n",
              "    <tr>\n",
              "      <th>12</th>\n",
              "      <td>6024 群益期</td>\n",
              "      <td>2005-03</td>\n",
              "      <td>1</td>\n",
              "    </tr>\n",
              "    <tr>\n",
              "      <th>13</th>\n",
              "      <td>6024 群益期</td>\n",
              "      <td>2006-02</td>\n",
              "      <td>4</td>\n",
              "    </tr>\n",
              "    <tr>\n",
              "      <th>14</th>\n",
              "      <td>6024 群益期</td>\n",
              "      <td>2006-07</td>\n",
              "      <td>8</td>\n",
              "    </tr>\n",
              "  </tbody>\n",
              "</table>\n",
              "</div>\n",
              "      <button class=\"colab-df-convert\" onclick=\"convertToInteractive('df-dfea9f1f-6c2b-4d2e-bbe4-621bc629c299')\"\n",
              "              title=\"Convert this dataframe to an interactive table.\"\n",
              "              style=\"display:none;\">\n",
              "        \n",
              "  <svg xmlns=\"http://www.w3.org/2000/svg\" height=\"24px\"viewBox=\"0 0 24 24\"\n",
              "       width=\"24px\">\n",
              "    <path d=\"M0 0h24v24H0V0z\" fill=\"none\"/>\n",
              "    <path d=\"M18.56 5.44l.94 2.06.94-2.06 2.06-.94-2.06-.94-.94-2.06-.94 2.06-2.06.94zm-11 1L8.5 8.5l.94-2.06 2.06-.94-2.06-.94L8.5 2.5l-.94 2.06-2.06.94zm10 10l.94 2.06.94-2.06 2.06-.94-2.06-.94-.94-2.06-.94 2.06-2.06.94z\"/><path d=\"M17.41 7.96l-1.37-1.37c-.4-.4-.92-.59-1.43-.59-.52 0-1.04.2-1.43.59L10.3 9.45l-7.72 7.72c-.78.78-.78 2.05 0 2.83L4 21.41c.39.39.9.59 1.41.59.51 0 1.02-.2 1.41-.59l7.78-7.78 2.81-2.81c.8-.78.8-2.07 0-2.86zM5.41 20L4 18.59l7.72-7.72 1.47 1.35L5.41 20z\"/>\n",
              "  </svg>\n",
              "      </button>\n",
              "      \n",
              "  <style>\n",
              "    .colab-df-container {\n",
              "      display:flex;\n",
              "      flex-wrap:wrap;\n",
              "      gap: 12px;\n",
              "    }\n",
              "\n",
              "    .colab-df-convert {\n",
              "      background-color: #E8F0FE;\n",
              "      border: none;\n",
              "      border-radius: 50%;\n",
              "      cursor: pointer;\n",
              "      display: none;\n",
              "      fill: #1967D2;\n",
              "      height: 32px;\n",
              "      padding: 0 0 0 0;\n",
              "      width: 32px;\n",
              "    }\n",
              "\n",
              "    .colab-df-convert:hover {\n",
              "      background-color: #E2EBFA;\n",
              "      box-shadow: 0px 1px 2px rgba(60, 64, 67, 0.3), 0px 1px 3px 1px rgba(60, 64, 67, 0.15);\n",
              "      fill: #174EA6;\n",
              "    }\n",
              "\n",
              "    [theme=dark] .colab-df-convert {\n",
              "      background-color: #3B4455;\n",
              "      fill: #D2E3FC;\n",
              "    }\n",
              "\n",
              "    [theme=dark] .colab-df-convert:hover {\n",
              "      background-color: #434B5C;\n",
              "      box-shadow: 0px 1px 3px 1px rgba(0, 0, 0, 0.15);\n",
              "      filter: drop-shadow(0px 1px 2px rgba(0, 0, 0, 0.3));\n",
              "      fill: #FFFFFF;\n",
              "    }\n",
              "  </style>\n",
              "\n",
              "      <script>\n",
              "        const buttonEl =\n",
              "          document.querySelector('#df-dfea9f1f-6c2b-4d2e-bbe4-621bc629c299 button.colab-df-convert');\n",
              "        buttonEl.style.display =\n",
              "          google.colab.kernel.accessAllowed ? 'block' : 'none';\n",
              "\n",
              "        async function convertToInteractive(key) {\n",
              "          const element = document.querySelector('#df-dfea9f1f-6c2b-4d2e-bbe4-621bc629c299');\n",
              "          const dataTable =\n",
              "            await google.colab.kernel.invokeFunction('convertToInteractive',\n",
              "                                                     [key], {});\n",
              "          if (!dataTable) return;\n",
              "\n",
              "          const docLinkHtml = 'Like what you see? Visit the ' +\n",
              "            '<a target=\"_blank\" href=https://colab.research.google.com/notebooks/data_table.ipynb>data table notebook</a>'\n",
              "            + ' to learn more about interactive tables.';\n",
              "          element.innerHTML = '';\n",
              "          dataTable['output_type'] = 'display_data';\n",
              "          await google.colab.output.renderOutput(dataTable, element);\n",
              "          const docLink = document.createElement('div');\n",
              "          docLink.innerHTML = docLinkHtml;\n",
              "          element.appendChild(docLink);\n",
              "        }\n",
              "      </script>\n",
              "    </div>\n",
              "  </div>\n",
              "  "
            ],
            "text/plain": [
              "           公司 Start date  Num of contig NaN\n",
              "0   5876 上海商銀    1998-06                  7\n",
              "1   5876 上海商銀    1999-06                  7\n",
              "2   5876 上海商銀    2000-06                  7\n",
              "3   5876 上海商銀    2001-06                  7\n",
              "4   5876 上海商銀    2002-06                  7\n",
              "5   5876 上海商銀    2003-06                  7\n",
              "6   5876 上海商銀    2004-06                  8\n",
              "7   5876 上海商銀    2005-06                  9\n",
              "8   5876 上海商銀    2006-06                 10\n",
              "9   5876 上海商銀    2007-06                 10\n",
              "10  5876 上海商銀    2008-06                 41\n",
              "11  5876 上海商銀    2012-01                 10\n",
              "12   6024 群益期    2005-03                  1\n",
              "13   6024 群益期    2006-02                  4\n",
              "14   6024 群益期    2006-07                  8"
            ]
          },
          "execution_count": 4,
          "metadata": {},
          "output_type": "execute_result"
        }
      ],
      "source": [
        "fin_nan_count1 = pd.read_excel(os.path.join(original_data_path,'上市櫃公司月營收_金融業_中間缺失整理.xlsx'))\n",
        "nonfin_nan_count1 = pd.read_excel(os.path.join(original_data_path,'上市櫃公司月營收_非金融業_中間缺失整理.xlsx'))\n",
        "print(\"金融業\", fin_nan_count1.shape)\n",
        "print(\"非金融業\", nonfin_nan_count1.shape)\n",
        "fin_nan_count1"
      ]
    },
    {
      "cell_type": "markdown",
      "metadata": {
        "id": "A9rvQykV_-dJ"
      },
      "source": [
        "## **2. Reformat**\n",
        "Create consecutive months from `start date` and `month count`.\n",
        "\n",
        "fin_nan_month & nonfin_nan_month"
      ]
    },
    {
      "cell_type": "code",
      "execution_count": null,
      "metadata": {
        "id": "wsIcN0yJAYs0"
      },
      "outputs": [],
      "source": [
        "from datetime import datetime"
      ]
    },
    {
      "cell_type": "code",
      "execution_count": null,
      "metadata": {
        "id": "0RasG4ZPxWqk"
      },
      "outputs": [],
      "source": [
        "def createConsecutiveMonth(originalD: pd.DataFrame):\n",
        "  nan_month = pd.DataFrame(columns = ['公司', '年月', '當月營收（千元）'])\n",
        "  for index, row in originalD.iterrows():\n",
        "    dt_list = pd.period_range(start=row['Start date'], periods=row['Num of contig NaN'], freq='M')\n",
        "    df = pd.DataFrame()\n",
        "    df['年月'] = dt_list\n",
        "    df['公司'] = row['公司']\n",
        "    nan_month = pd.concat([nan_month, df], ignore_index=True, sort=False)\n",
        "  return nan_month"
      ]
    },
    {
      "cell_type": "code",
      "execution_count": null,
      "metadata": {
        "colab": {
          "base_uri": "https://localhost:8080/"
        },
        "id": "s9oM8nlo_9Nx",
        "outputId": "f7d7a183-16b1-4cda-d0ea-466095407a12"
      },
      "outputs": [
        {
          "name": "stdout",
          "output_type": "stream",
          "text": [
            "金融業 (143, 3)\n",
            "非金融業 (2643, 3)\n"
          ]
        },
        {
          "data": {
            "text/html": [
              "\n",
              "  <div id=\"df-4e91d74a-9c2a-44a8-bfd1-c141338624a9\">\n",
              "    <div class=\"colab-df-container\">\n",
              "      <div>\n",
              "<style scoped>\n",
              "    .dataframe tbody tr th:only-of-type {\n",
              "        vertical-align: middle;\n",
              "    }\n",
              "\n",
              "    .dataframe tbody tr th {\n",
              "        vertical-align: top;\n",
              "    }\n",
              "\n",
              "    .dataframe thead th {\n",
              "        text-align: right;\n",
              "    }\n",
              "</style>\n",
              "<table border=\"1\" class=\"dataframe\">\n",
              "  <thead>\n",
              "    <tr style=\"text-align: right;\">\n",
              "      <th></th>\n",
              "      <th>公司</th>\n",
              "      <th>年月</th>\n",
              "      <th>當月營收（千元）</th>\n",
              "    </tr>\n",
              "  </thead>\n",
              "  <tbody>\n",
              "    <tr>\n",
              "      <th>0</th>\n",
              "      <td>5876 上海商銀</td>\n",
              "      <td>1998-06</td>\n",
              "      <td>NaN</td>\n",
              "    </tr>\n",
              "    <tr>\n",
              "      <th>1</th>\n",
              "      <td>5876 上海商銀</td>\n",
              "      <td>1998-07</td>\n",
              "      <td>NaN</td>\n",
              "    </tr>\n",
              "    <tr>\n",
              "      <th>2</th>\n",
              "      <td>5876 上海商銀</td>\n",
              "      <td>1998-08</td>\n",
              "      <td>NaN</td>\n",
              "    </tr>\n",
              "    <tr>\n",
              "      <th>3</th>\n",
              "      <td>5876 上海商銀</td>\n",
              "      <td>1998-09</td>\n",
              "      <td>NaN</td>\n",
              "    </tr>\n",
              "    <tr>\n",
              "      <th>4</th>\n",
              "      <td>5876 上海商銀</td>\n",
              "      <td>1998-10</td>\n",
              "      <td>NaN</td>\n",
              "    </tr>\n",
              "    <tr>\n",
              "      <th>...</th>\n",
              "      <td>...</td>\n",
              "      <td>...</td>\n",
              "      <td>...</td>\n",
              "    </tr>\n",
              "    <tr>\n",
              "      <th>138</th>\n",
              "      <td>6024 群益期</td>\n",
              "      <td>2006-10</td>\n",
              "      <td>NaN</td>\n",
              "    </tr>\n",
              "    <tr>\n",
              "      <th>139</th>\n",
              "      <td>6024 群益期</td>\n",
              "      <td>2006-11</td>\n",
              "      <td>NaN</td>\n",
              "    </tr>\n",
              "    <tr>\n",
              "      <th>140</th>\n",
              "      <td>6024 群益期</td>\n",
              "      <td>2006-12</td>\n",
              "      <td>NaN</td>\n",
              "    </tr>\n",
              "    <tr>\n",
              "      <th>141</th>\n",
              "      <td>6024 群益期</td>\n",
              "      <td>2007-01</td>\n",
              "      <td>NaN</td>\n",
              "    </tr>\n",
              "    <tr>\n",
              "      <th>142</th>\n",
              "      <td>6024 群益期</td>\n",
              "      <td>2007-02</td>\n",
              "      <td>NaN</td>\n",
              "    </tr>\n",
              "  </tbody>\n",
              "</table>\n",
              "<p>143 rows × 3 columns</p>\n",
              "</div>\n",
              "      <button class=\"colab-df-convert\" onclick=\"convertToInteractive('df-4e91d74a-9c2a-44a8-bfd1-c141338624a9')\"\n",
              "              title=\"Convert this dataframe to an interactive table.\"\n",
              "              style=\"display:none;\">\n",
              "        \n",
              "  <svg xmlns=\"http://www.w3.org/2000/svg\" height=\"24px\"viewBox=\"0 0 24 24\"\n",
              "       width=\"24px\">\n",
              "    <path d=\"M0 0h24v24H0V0z\" fill=\"none\"/>\n",
              "    <path d=\"M18.56 5.44l.94 2.06.94-2.06 2.06-.94-2.06-.94-.94-2.06-.94 2.06-2.06.94zm-11 1L8.5 8.5l.94-2.06 2.06-.94-2.06-.94L8.5 2.5l-.94 2.06-2.06.94zm10 10l.94 2.06.94-2.06 2.06-.94-2.06-.94-.94-2.06-.94 2.06-2.06.94z\"/><path d=\"M17.41 7.96l-1.37-1.37c-.4-.4-.92-.59-1.43-.59-.52 0-1.04.2-1.43.59L10.3 9.45l-7.72 7.72c-.78.78-.78 2.05 0 2.83L4 21.41c.39.39.9.59 1.41.59.51 0 1.02-.2 1.41-.59l7.78-7.78 2.81-2.81c.8-.78.8-2.07 0-2.86zM5.41 20L4 18.59l7.72-7.72 1.47 1.35L5.41 20z\"/>\n",
              "  </svg>\n",
              "      </button>\n",
              "      \n",
              "  <style>\n",
              "    .colab-df-container {\n",
              "      display:flex;\n",
              "      flex-wrap:wrap;\n",
              "      gap: 12px;\n",
              "    }\n",
              "\n",
              "    .colab-df-convert {\n",
              "      background-color: #E8F0FE;\n",
              "      border: none;\n",
              "      border-radius: 50%;\n",
              "      cursor: pointer;\n",
              "      display: none;\n",
              "      fill: #1967D2;\n",
              "      height: 32px;\n",
              "      padding: 0 0 0 0;\n",
              "      width: 32px;\n",
              "    }\n",
              "\n",
              "    .colab-df-convert:hover {\n",
              "      background-color: #E2EBFA;\n",
              "      box-shadow: 0px 1px 2px rgba(60, 64, 67, 0.3), 0px 1px 3px 1px rgba(60, 64, 67, 0.15);\n",
              "      fill: #174EA6;\n",
              "    }\n",
              "\n",
              "    [theme=dark] .colab-df-convert {\n",
              "      background-color: #3B4455;\n",
              "      fill: #D2E3FC;\n",
              "    }\n",
              "\n",
              "    [theme=dark] .colab-df-convert:hover {\n",
              "      background-color: #434B5C;\n",
              "      box-shadow: 0px 1px 3px 1px rgba(0, 0, 0, 0.15);\n",
              "      filter: drop-shadow(0px 1px 2px rgba(0, 0, 0, 0.3));\n",
              "      fill: #FFFFFF;\n",
              "    }\n",
              "  </style>\n",
              "\n",
              "      <script>\n",
              "        const buttonEl =\n",
              "          document.querySelector('#df-4e91d74a-9c2a-44a8-bfd1-c141338624a9 button.colab-df-convert');\n",
              "        buttonEl.style.display =\n",
              "          google.colab.kernel.accessAllowed ? 'block' : 'none';\n",
              "\n",
              "        async function convertToInteractive(key) {\n",
              "          const element = document.querySelector('#df-4e91d74a-9c2a-44a8-bfd1-c141338624a9');\n",
              "          const dataTable =\n",
              "            await google.colab.kernel.invokeFunction('convertToInteractive',\n",
              "                                                     [key], {});\n",
              "          if (!dataTable) return;\n",
              "\n",
              "          const docLinkHtml = 'Like what you see? Visit the ' +\n",
              "            '<a target=\"_blank\" href=https://colab.research.google.com/notebooks/data_table.ipynb>data table notebook</a>'\n",
              "            + ' to learn more about interactive tables.';\n",
              "          element.innerHTML = '';\n",
              "          dataTable['output_type'] = 'display_data';\n",
              "          await google.colab.output.renderOutput(dataTable, element);\n",
              "          const docLink = document.createElement('div');\n",
              "          docLink.innerHTML = docLinkHtml;\n",
              "          element.appendChild(docLink);\n",
              "        }\n",
              "      </script>\n",
              "    </div>\n",
              "  </div>\n",
              "  "
            ],
            "text/plain": [
              "            公司       年月 當月營收（千元）\n",
              "0    5876 上海商銀  1998-06      NaN\n",
              "1    5876 上海商銀  1998-07      NaN\n",
              "2    5876 上海商銀  1998-08      NaN\n",
              "3    5876 上海商銀  1998-09      NaN\n",
              "4    5876 上海商銀  1998-10      NaN\n",
              "..         ...      ...      ...\n",
              "138   6024 群益期  2006-10      NaN\n",
              "139   6024 群益期  2006-11      NaN\n",
              "140   6024 群益期  2006-12      NaN\n",
              "141   6024 群益期  2007-01      NaN\n",
              "142   6024 群益期  2007-02      NaN\n",
              "\n",
              "[143 rows x 3 columns]"
            ]
          },
          "execution_count": 7,
          "metadata": {},
          "output_type": "execute_result"
        }
      ],
      "source": [
        "fin_nan_month = createConsecutiveMonth(fin_nan_count1)\n",
        "nonfin_nan_month = createConsecutiveMonth(nonfin_nan_count1)\n",
        "\n",
        "# Check if there is any error\n",
        "if len(fin_nan_month) == fin_nan_count1['Num of contig NaN'].sum():\n",
        "  print('金融業', fin_nan_month.shape)\n",
        "else:\n",
        "  print('金融業 (error)')\n",
        "if len(nonfin_nan_month) == nonfin_nan_count1['Num of contig NaN'].sum():\n",
        "  print('非金融業', nonfin_nan_month.shape)\n",
        "else:\n",
        "  print('非金融業 (error)')\n",
        "\n",
        "fin_nan_month"
      ]
    },
    {
      "cell_type": "markdown",
      "metadata": {
        "id": "REcYDDI-D-4X"
      },
      "source": [
        "## **3. Web Crawler Function**"
      ]
    },
    {
      "cell_type": "markdown",
      "metadata": {
        "id": "WqCYOtoYMdAZ"
      },
      "source": [
        "### **3.1 每月營收彙總報表 (Not recommended)**\n",
        "\n",
        "公開資訊觀測站：彙總報表/營運概況/每月營收\n",
        "\n",
        "2001年6月開始才有資料"
      ]
    },
    {
      "cell_type": "code",
      "execution_count": null,
      "metadata": {
        "id": "dY7Mqula4cU0"
      },
      "outputs": [],
      "source": [
        "import requests\n",
        "from io import StringIO"
      ]
    },
    {
      "cell_type": "code",
      "execution_count": null,
      "metadata": {
        "id": "qvE_GRk61nnn"
      },
      "outputs": [],
      "source": [
        "\"\"\" 上市公司（sii）每月營收彙總報表 \"\"\"\n",
        "\n",
        "def monthly_report(year, month):   \n",
        "  # 西元轉民國\n",
        "  if year > 1990:\n",
        "      year -= 1911\n",
        "  \n",
        "  # URL\n",
        "  if year >= 102:  \n",
        "    url = 'https://mops.twse.com.tw/nas/t21/sii/t21sc03_'+str(year)+'_'+str(month)+'_0.html'\n",
        "  else:\n",
        "    url = 'https://mops.twse.com.tw/nas/t21/sii/t21sc03_'+str(year)+'_'+str(month)+'.html'\n",
        "  \n",
        "  # 偽瀏覽器\n",
        "  headers = {'User-Agent': 'Mozilla/5.0 (Macintosh; Intel Mac OS X 10_10_1) AppleWebKit/537.36 (KHTML, like Gecko) Chrome/39.0.2171.95 Safari/537.36'}\n",
        "    \n",
        "  # 下載該年月的網站\n",
        "  r = requests.get(url, headers=headers)\n",
        "  r.encoding = 'big5'\n",
        "  dfs = pd.read_html(StringIO(r.text), encoding='big-5')\n",
        "\n",
        "  # 剃除行數錯誤的表格,並將表格合併\n",
        "  if year >= 102:\n",
        "    df = pd.concat([df for df in dfs if df.shape[1] == 11]) \n",
        "  else:\n",
        "    df = pd.concat([df for df in dfs if df.shape[1] <= 11 and df.shape[1] > 5])\n",
        "\n",
        "  # 設定表格的header \n",
        "  df.columns = df.columns.get_level_values(1)\n",
        "\n",
        "  # 剃除多餘欄位, 重新排序索引值\n",
        "  df = df[df['公司名稱'] != '合計']\n",
        "  df = df[df['公司名稱'] != '總計']\n",
        "  # df['公司'] = df[['公司代號', '公司名稱']].apply(\" \".join, axis=1)\n",
        "  # df = df[['公司', '去年當月營收']]\n",
        "  df = df.reset_index(drop=True)\n",
        "\n",
        "  return df"
      ]
    },
    {
      "cell_type": "code",
      "execution_count": null,
      "metadata": {
        "colab": {
          "base_uri": "https://localhost:8080/"
        },
        "id": "WqKAiUa355qN",
        "outputId": "57985949-1cb9-4b2c-a86e-51c034052b90"
      },
      "outputs": [
        {
          "data": {
            "text/html": [
              "\n",
              "  <div id=\"df-f5cdb2ce-b77f-41ca-abfa-cec41d7abff9\">\n",
              "    <div class=\"colab-df-container\">\n",
              "      <div>\n",
              "<style scoped>\n",
              "    .dataframe tbody tr th:only-of-type {\n",
              "        vertical-align: middle;\n",
              "    }\n",
              "\n",
              "    .dataframe tbody tr th {\n",
              "        vertical-align: top;\n",
              "    }\n",
              "\n",
              "    .dataframe thead th {\n",
              "        text-align: right;\n",
              "    }\n",
              "</style>\n",
              "<table border=\"1\" class=\"dataframe\">\n",
              "  <thead>\n",
              "    <tr style=\"text-align: right;\">\n",
              "      <th></th>\n",
              "      <th>公司代號</th>\n",
              "      <th>公司名稱</th>\n",
              "      <th>當月營收</th>\n",
              "      <th>上月營收</th>\n",
              "      <th>去年當月營收</th>\n",
              "      <th>上月比較增減(%)</th>\n",
              "      <th>去年同月增減(%)</th>\n",
              "      <th>當月累計營收</th>\n",
              "      <th>去年累計營收</th>\n",
              "      <th>前期比較增減(%)</th>\n",
              "    </tr>\n",
              "  </thead>\n",
              "  <tbody>\n",
              "    <tr>\n",
              "      <th>0</th>\n",
              "      <td>1101</td>\n",
              "      <td>台泥</td>\n",
              "      <td>1690526</td>\n",
              "      <td>1769742</td>\n",
              "      <td>1445664</td>\n",
              "      <td>-4.47</td>\n",
              "      <td>16.93</td>\n",
              "      <td>9761724</td>\n",
              "      <td>8642713</td>\n",
              "      <td>12.94</td>\n",
              "    </tr>\n",
              "    <tr>\n",
              "      <th>1</th>\n",
              "      <td>1102</td>\n",
              "      <td>亞泥</td>\n",
              "      <td>771532</td>\n",
              "      <td>874662</td>\n",
              "      <td>905595</td>\n",
              "      <td>-11.79</td>\n",
              "      <td>-14.80</td>\n",
              "      <td>4822011</td>\n",
              "      <td>5666028</td>\n",
              "      <td>-14.89</td>\n",
              "    </tr>\n",
              "    <tr>\n",
              "      <th>2</th>\n",
              "      <td>1103</td>\n",
              "      <td>嘉泥</td>\n",
              "      <td>179578</td>\n",
              "      <td>167580</td>\n",
              "      <td>223456</td>\n",
              "      <td>7.15</td>\n",
              "      <td>-19.63</td>\n",
              "      <td>1140033</td>\n",
              "      <td>1388661</td>\n",
              "      <td>-17.90</td>\n",
              "    </tr>\n",
              "    <tr>\n",
              "      <th>3</th>\n",
              "      <td>1104</td>\n",
              "      <td>環泥</td>\n",
              "      <td>183433</td>\n",
              "      <td>181099</td>\n",
              "      <td>232752</td>\n",
              "      <td>1.28</td>\n",
              "      <td>-21.18</td>\n",
              "      <td>1221780</td>\n",
              "      <td>1526619</td>\n",
              "      <td>-19.96</td>\n",
              "    </tr>\n",
              "    <tr>\n",
              "      <th>4</th>\n",
              "      <td>1107</td>\n",
              "      <td>建台</td>\n",
              "      <td>149782</td>\n",
              "      <td>182413</td>\n",
              "      <td>321731</td>\n",
              "      <td>-17.88</td>\n",
              "      <td>-53.44</td>\n",
              "      <td>1346832</td>\n",
              "      <td>2569251</td>\n",
              "      <td>-47.57</td>\n",
              "    </tr>\n",
              "    <tr>\n",
              "      <th>...</th>\n",
              "      <td>...</td>\n",
              "      <td>...</td>\n",
              "      <td>...</td>\n",
              "      <td>...</td>\n",
              "      <td>...</td>\n",
              "      <td>...</td>\n",
              "      <td>...</td>\n",
              "      <td>...</td>\n",
              "      <td>...</td>\n",
              "      <td>...</td>\n",
              "    </tr>\n",
              "    <tr>\n",
              "      <th>591</th>\n",
              "      <td>9937</td>\n",
              "      <td>全國</td>\n",
              "      <td>747125</td>\n",
              "      <td>695845</td>\n",
              "      <td>607212</td>\n",
              "      <td>7.36</td>\n",
              "      <td>23.04</td>\n",
              "      <td>3919041</td>\n",
              "      <td>3362023</td>\n",
              "      <td>16.56</td>\n",
              "    </tr>\n",
              "    <tr>\n",
              "      <th>592</th>\n",
              "      <td>9938</td>\n",
              "      <td>台灣百和</td>\n",
              "      <td>121318</td>\n",
              "      <td>122691</td>\n",
              "      <td>119429</td>\n",
              "      <td>-1.11</td>\n",
              "      <td>1.58</td>\n",
              "      <td>694444</td>\n",
              "      <td>759263</td>\n",
              "      <td>-8.53</td>\n",
              "    </tr>\n",
              "    <tr>\n",
              "      <th>593</th>\n",
              "      <td>9939</td>\n",
              "      <td>宏全</td>\n",
              "      <td>137483</td>\n",
              "      <td>130096</td>\n",
              "      <td>121185</td>\n",
              "      <td>5.67</td>\n",
              "      <td>13.44</td>\n",
              "      <td>689615</td>\n",
              "      <td>665701</td>\n",
              "      <td>3.59</td>\n",
              "    </tr>\n",
              "    <tr>\n",
              "      <th>594</th>\n",
              "      <td>9940</td>\n",
              "      <td>信義房屋</td>\n",
              "      <td>133864</td>\n",
              "      <td>116664</td>\n",
              "      <td>176174</td>\n",
              "      <td>14.74</td>\n",
              "      <td>-24.01</td>\n",
              "      <td>781371</td>\n",
              "      <td>990542</td>\n",
              "      <td>-21.11</td>\n",
              "    </tr>\n",
              "    <tr>\n",
              "      <th>595</th>\n",
              "      <td>9941</td>\n",
              "      <td>裕融</td>\n",
              "      <td>189842</td>\n",
              "      <td>192701</td>\n",
              "      <td>205791</td>\n",
              "      <td>-1.48</td>\n",
              "      <td>-7.75</td>\n",
              "      <td>1169236</td>\n",
              "      <td>1218777</td>\n",
              "      <td>-4.06</td>\n",
              "    </tr>\n",
              "  </tbody>\n",
              "</table>\n",
              "<p>596 rows × 10 columns</p>\n",
              "</div>\n",
              "      <button class=\"colab-df-convert\" onclick=\"convertToInteractive('df-f5cdb2ce-b77f-41ca-abfa-cec41d7abff9')\"\n",
              "              title=\"Convert this dataframe to an interactive table.\"\n",
              "              style=\"display:none;\">\n",
              "        \n",
              "  <svg xmlns=\"http://www.w3.org/2000/svg\" height=\"24px\"viewBox=\"0 0 24 24\"\n",
              "       width=\"24px\">\n",
              "    <path d=\"M0 0h24v24H0V0z\" fill=\"none\"/>\n",
              "    <path d=\"M18.56 5.44l.94 2.06.94-2.06 2.06-.94-2.06-.94-.94-2.06-.94 2.06-2.06.94zm-11 1L8.5 8.5l.94-2.06 2.06-.94-2.06-.94L8.5 2.5l-.94 2.06-2.06.94zm10 10l.94 2.06.94-2.06 2.06-.94-2.06-.94-.94-2.06-.94 2.06-2.06.94z\"/><path d=\"M17.41 7.96l-1.37-1.37c-.4-.4-.92-.59-1.43-.59-.52 0-1.04.2-1.43.59L10.3 9.45l-7.72 7.72c-.78.78-.78 2.05 0 2.83L4 21.41c.39.39.9.59 1.41.59.51 0 1.02-.2 1.41-.59l7.78-7.78 2.81-2.81c.8-.78.8-2.07 0-2.86zM5.41 20L4 18.59l7.72-7.72 1.47 1.35L5.41 20z\"/>\n",
              "  </svg>\n",
              "      </button>\n",
              "      \n",
              "  <style>\n",
              "    .colab-df-container {\n",
              "      display:flex;\n",
              "      flex-wrap:wrap;\n",
              "      gap: 12px;\n",
              "    }\n",
              "\n",
              "    .colab-df-convert {\n",
              "      background-color: #E8F0FE;\n",
              "      border: none;\n",
              "      border-radius: 50%;\n",
              "      cursor: pointer;\n",
              "      display: none;\n",
              "      fill: #1967D2;\n",
              "      height: 32px;\n",
              "      padding: 0 0 0 0;\n",
              "      width: 32px;\n",
              "    }\n",
              "\n",
              "    .colab-df-convert:hover {\n",
              "      background-color: #E2EBFA;\n",
              "      box-shadow: 0px 1px 2px rgba(60, 64, 67, 0.3), 0px 1px 3px 1px rgba(60, 64, 67, 0.15);\n",
              "      fill: #174EA6;\n",
              "    }\n",
              "\n",
              "    [theme=dark] .colab-df-convert {\n",
              "      background-color: #3B4455;\n",
              "      fill: #D2E3FC;\n",
              "    }\n",
              "\n",
              "    [theme=dark] .colab-df-convert:hover {\n",
              "      background-color: #434B5C;\n",
              "      box-shadow: 0px 1px 3px 1px rgba(0, 0, 0, 0.15);\n",
              "      filter: drop-shadow(0px 1px 2px rgba(0, 0, 0, 0.3));\n",
              "      fill: #FFFFFF;\n",
              "    }\n",
              "  </style>\n",
              "\n",
              "      <script>\n",
              "        const buttonEl =\n",
              "          document.querySelector('#df-f5cdb2ce-b77f-41ca-abfa-cec41d7abff9 button.colab-df-convert');\n",
              "        buttonEl.style.display =\n",
              "          google.colab.kernel.accessAllowed ? 'block' : 'none';\n",
              "\n",
              "        async function convertToInteractive(key) {\n",
              "          const element = document.querySelector('#df-f5cdb2ce-b77f-41ca-abfa-cec41d7abff9');\n",
              "          const dataTable =\n",
              "            await google.colab.kernel.invokeFunction('convertToInteractive',\n",
              "                                                     [key], {});\n",
              "          if (!dataTable) return;\n",
              "\n",
              "          const docLinkHtml = 'Like what you see? Visit the ' +\n",
              "            '<a target=\"_blank\" href=https://colab.research.google.com/notebooks/data_table.ipynb>data table notebook</a>'\n",
              "            + ' to learn more about interactive tables.';\n",
              "          element.innerHTML = '';\n",
              "          dataTable['output_type'] = 'display_data';\n",
              "          await google.colab.output.renderOutput(dataTable, element);\n",
              "          const docLink = document.createElement('div');\n",
              "          docLink.innerHTML = docLinkHtml;\n",
              "          element.appendChild(docLink);\n",
              "        }\n",
              "      </script>\n",
              "    </div>\n",
              "  </div>\n",
              "  "
            ],
            "text/plain": [
              "     公司代號  公司名稱     當月營收     上月營收   去年當月營收  上月比較增減(%)  去年同月增減(%)   當月累計營收  \\\n",
              "0    1101    台泥  1690526  1769742  1445664      -4.47      16.93  9761724   \n",
              "1    1102    亞泥   771532   874662   905595     -11.79     -14.80  4822011   \n",
              "2    1103    嘉泥   179578   167580   223456       7.15     -19.63  1140033   \n",
              "3    1104    環泥   183433   181099   232752       1.28     -21.18  1221780   \n",
              "4    1107    建台   149782   182413   321731     -17.88     -53.44  1346832   \n",
              "..    ...   ...      ...      ...      ...        ...        ...      ...   \n",
              "591  9937    全國   747125   695845   607212       7.36      23.04  3919041   \n",
              "592  9938  台灣百和   121318   122691   119429      -1.11       1.58   694444   \n",
              "593  9939    宏全   137483   130096   121185       5.67      13.44   689615   \n",
              "594  9940  信義房屋   133864   116664   176174      14.74     -24.01   781371   \n",
              "595  9941    裕融   189842   192701   205791      -1.48      -7.75  1169236   \n",
              "\n",
              "      去年累計營收  前期比較增減(%)  \n",
              "0    8642713      12.94  \n",
              "1    5666028     -14.89  \n",
              "2    1388661     -17.90  \n",
              "3    1526619     -19.96  \n",
              "4    2569251     -47.57  \n",
              "..       ...        ...  \n",
              "591  3362023      16.56  \n",
              "592   759263      -8.53  \n",
              "593   665701       3.59  \n",
              "594   990542     -21.11  \n",
              "595  1218777      -4.06  \n",
              "\n",
              "[596 rows x 10 columns]"
            ]
          },
          "execution_count": 10,
          "metadata": {},
          "output_type": "execute_result"
        }
      ],
      "source": [
        "monthly_report(90, 6)"
      ]
    },
    {
      "cell_type": "markdown",
      "metadata": {
        "id": "bek1SL1VHNah"
      },
      "source": [
        "### **3.2 個別公司每月營收**\n",
        "\n",
        "公開資訊觀測站：營運概況/每月營收<br/>\n",
        "/採用IFRSs後之月營業收入資訊：https://mops.twse.com.tw/mops/web/t05st10_ifrs<br/>\n",
        "/採用IFRSs前之開立發票及營業收入資訊(含合併營收)：https://mops.twse.com.tw/mops/web/t05st10<br/>\n",
        "\n",
        "\n",
        "<br/>\n",
        "\n",
        "**View POST Data with Chrome Developer Tools**:<br/>\n",
        "Right-click -> Inspect -> Network -> Payload -> Form Data\n"
      ]
    },
    {
      "cell_type": "code",
      "execution_count": 3,
      "metadata": {
        "id": "EWSJ3kNFijvF"
      },
      "outputs": [],
      "source": [
        "import requests\n",
        "import time"
      ]
    },
    {
      "cell_type": "code",
      "execution_count": 4,
      "metadata": {
        "id": "k6lrtA2eHN5C"
      },
      "outputs": [],
      "source": [
        "def monthly_revenue(co_id_name, year, month):\n",
        "  # 公司代號\n",
        "  co_id = co_id_name.split(' ')[0]\n",
        "\n",
        "  # 西元轉民國\n",
        "  if year > 1990:\n",
        "    year -= 1911\n",
        "  \n",
        "  # URL\n",
        "  if year >= 102:\n",
        "    url = 'https://mops.twse.com.tw/mops/web/t05st10_ifrs'\n",
        "    step = 1\n",
        "  else:\n",
        "    url = 'https://mops.twse.com.tw/mops/web/t05st10'\n",
        "    step = 0\n",
        "\n",
        "  # 月份\n",
        "  if month < 10:\n",
        "    month = \"0\" + str(month)\n",
        "  else:\n",
        "    month = str(month)\n",
        "\n",
        "  r = requests.post(url, {\n",
        "    'encodeURIComponent': 1,\n",
        "    'step': step,\n",
        "    'firstin': 'true',\n",
        "    'off': 1,\n",
        "    'isnew': 'false', # 歷史資料\n",
        "    'co_id': co_id,\n",
        "    'year': year,\n",
        "    'month': month,\n",
        "  })\n",
        "\n",
        "  r.encoding = 'utf8'\n",
        "  time.sleep(1) # wait for 1 sec.\n",
        "  dfs = pd.read_html(r.text, header=None)\n",
        "\n",
        "  if len(dfs) <= 10:\n",
        "    # print(\"No data.\")\n",
        "    df = pd.DataFrame()\n",
        "  else:\n",
        "    df = pd.concat([df for df in dfs[10:] if df.shape[1] <= 3 and df.shape[1] >= 2])\n",
        "    if df.shape[0] > 9: # 採用 IFRSs 前之合併營收\n",
        "      if \"-KY\" in co_id_name or \"-DR\" in co_id_name: # KY 公司\n",
        "        if df.shape[0] <= 10:\n",
        "          df.columns = df.iloc[0]\n",
        "          df = df.iloc[1:]\n",
        "          df = df.rename(columns = {'合併營業收入淨額':'營業收入淨額'})   \n",
        "        else:\n",
        "          df = df.iloc[1:].reset_index(drop=True)\n",
        "          df.columns = df.iloc[0]\n",
        "          df = df.iloc[1:][['項目','新台幣']]\n",
        "          df = df.rename(columns = {'新台幣':'營業收入淨額'})\n",
        "      else:\n",
        "        df = pd.concat([df for df in dfs[11:] if df.shape[1] <= 3 and df.shape[1] >= 2])\n",
        "        df.columns = df.iloc[0]\n",
        "        df = df.iloc[1:]\n",
        "        df = df.rename(columns = {'合併營業收入淨額':'營業收入淨額'})\n",
        "\n",
        "    # df = df[df['項目'] != '增減百分比']\n",
        "    df = df.reset_index(drop=True)\n",
        "  \n",
        "  return df"
      ]
    },
    {
      "cell_type": "code",
      "execution_count": null,
      "metadata": {
        "colab": {
          "base_uri": "https://localhost:8080/",
          "height": 300
        },
        "id": "9qTv5wLciq2R",
        "outputId": "81df1998-edfd-45da-e35a-ec0de9ffba56"
      },
      "outputs": [
        {
          "data": {
            "text/html": [
              "\n",
              "  <div id=\"df-43b49f4c-0426-4e5e-847e-20244ac97d9b\">\n",
              "    <div class=\"colab-df-container\">\n",
              "      <div>\n",
              "<style scoped>\n",
              "    .dataframe tbody tr th:only-of-type {\n",
              "        vertical-align: middle;\n",
              "    }\n",
              "\n",
              "    .dataframe tbody tr th {\n",
              "        vertical-align: top;\n",
              "    }\n",
              "\n",
              "    .dataframe thead th {\n",
              "        text-align: right;\n",
              "    }\n",
              "</style>\n",
              "<table border=\"1\" class=\"dataframe\">\n",
              "  <thead>\n",
              "    <tr style=\"text-align: right;\">\n",
              "      <th></th>\n",
              "      <th>項目</th>\n",
              "      <th>營業收入淨額</th>\n",
              "    </tr>\n",
              "  </thead>\n",
              "  <tbody>\n",
              "    <tr>\n",
              "      <th>0</th>\n",
              "      <td>本月</td>\n",
              "      <td>47438687.00</td>\n",
              "    </tr>\n",
              "    <tr>\n",
              "      <th>1</th>\n",
              "      <td>去年同期</td>\n",
              "      <td>34606486.00</td>\n",
              "    </tr>\n",
              "    <tr>\n",
              "      <th>2</th>\n",
              "      <td>增減金額</td>\n",
              "      <td>12832201.00</td>\n",
              "    </tr>\n",
              "    <tr>\n",
              "      <th>3</th>\n",
              "      <td>增減百分比</td>\n",
              "      <td>37.08</td>\n",
              "    </tr>\n",
              "    <tr>\n",
              "      <th>4</th>\n",
              "      <td>本年累計</td>\n",
              "      <td>47438687.00</td>\n",
              "    </tr>\n",
              "    <tr>\n",
              "      <th>5</th>\n",
              "      <td>去年累計</td>\n",
              "      <td>34606486.00</td>\n",
              "    </tr>\n",
              "    <tr>\n",
              "      <th>6</th>\n",
              "      <td>增減金額</td>\n",
              "      <td>12832201.00</td>\n",
              "    </tr>\n",
              "    <tr>\n",
              "      <th>7</th>\n",
              "      <td>增減百分比</td>\n",
              "      <td>37.08</td>\n",
              "    </tr>\n",
              "  </tbody>\n",
              "</table>\n",
              "</div>\n",
              "      <button class=\"colab-df-convert\" onclick=\"convertToInteractive('df-43b49f4c-0426-4e5e-847e-20244ac97d9b')\"\n",
              "              title=\"Convert this dataframe to an interactive table.\"\n",
              "              style=\"display:none;\">\n",
              "        \n",
              "  <svg xmlns=\"http://www.w3.org/2000/svg\" height=\"24px\"viewBox=\"0 0 24 24\"\n",
              "       width=\"24px\">\n",
              "    <path d=\"M0 0h24v24H0V0z\" fill=\"none\"/>\n",
              "    <path d=\"M18.56 5.44l.94 2.06.94-2.06 2.06-.94-2.06-.94-.94-2.06-.94 2.06-2.06.94zm-11 1L8.5 8.5l.94-2.06 2.06-.94-2.06-.94L8.5 2.5l-.94 2.06-2.06.94zm10 10l.94 2.06.94-2.06 2.06-.94-2.06-.94-.94-2.06-.94 2.06-2.06.94z\"/><path d=\"M17.41 7.96l-1.37-1.37c-.4-.4-.92-.59-1.43-.59-.52 0-1.04.2-1.43.59L10.3 9.45l-7.72 7.72c-.78.78-.78 2.05 0 2.83L4 21.41c.39.39.9.59 1.41.59.51 0 1.02-.2 1.41-.59l7.78-7.78 2.81-2.81c.8-.78.8-2.07 0-2.86zM5.41 20L4 18.59l7.72-7.72 1.47 1.35L5.41 20z\"/>\n",
              "  </svg>\n",
              "      </button>\n",
              "      \n",
              "  <style>\n",
              "    .colab-df-container {\n",
              "      display:flex;\n",
              "      flex-wrap:wrap;\n",
              "      gap: 12px;\n",
              "    }\n",
              "\n",
              "    .colab-df-convert {\n",
              "      background-color: #E8F0FE;\n",
              "      border: none;\n",
              "      border-radius: 50%;\n",
              "      cursor: pointer;\n",
              "      display: none;\n",
              "      fill: #1967D2;\n",
              "      height: 32px;\n",
              "      padding: 0 0 0 0;\n",
              "      width: 32px;\n",
              "    }\n",
              "\n",
              "    .colab-df-convert:hover {\n",
              "      background-color: #E2EBFA;\n",
              "      box-shadow: 0px 1px 2px rgba(60, 64, 67, 0.3), 0px 1px 3px 1px rgba(60, 64, 67, 0.15);\n",
              "      fill: #174EA6;\n",
              "    }\n",
              "\n",
              "    [theme=dark] .colab-df-convert {\n",
              "      background-color: #3B4455;\n",
              "      fill: #D2E3FC;\n",
              "    }\n",
              "\n",
              "    [theme=dark] .colab-df-convert:hover {\n",
              "      background-color: #434B5C;\n",
              "      box-shadow: 0px 1px 3px 1px rgba(0, 0, 0, 0.15);\n",
              "      filter: drop-shadow(0px 1px 2px rgba(0, 0, 0, 0.3));\n",
              "      fill: #FFFFFF;\n",
              "    }\n",
              "  </style>\n",
              "\n",
              "      <script>\n",
              "        const buttonEl =\n",
              "          document.querySelector('#df-43b49f4c-0426-4e5e-847e-20244ac97d9b button.colab-df-convert');\n",
              "        buttonEl.style.display =\n",
              "          google.colab.kernel.accessAllowed ? 'block' : 'none';\n",
              "\n",
              "        async function convertToInteractive(key) {\n",
              "          const element = document.querySelector('#df-43b49f4c-0426-4e5e-847e-20244ac97d9b');\n",
              "          const dataTable =\n",
              "            await google.colab.kernel.invokeFunction('convertToInteractive',\n",
              "                                                     [key], {});\n",
              "          if (!dataTable) return;\n",
              "\n",
              "          const docLinkHtml = 'Like what you see? Visit the ' +\n",
              "            '<a target=\"_blank\" href=https://colab.research.google.com/notebooks/data_table.ipynb>data table notebook</a>'\n",
              "            + ' to learn more about interactive tables.';\n",
              "          element.innerHTML = '';\n",
              "          dataTable['output_type'] = 'display_data';\n",
              "          await google.colab.output.renderOutput(dataTable, element);\n",
              "          const docLink = document.createElement('div');\n",
              "          docLink.innerHTML = docLinkHtml;\n",
              "          element.appendChild(docLink);\n",
              "        }\n",
              "      </script>\n",
              "    </div>\n",
              "  </div>\n",
              "  "
            ],
            "text/plain": [
              "      項目       營業收入淨額\n",
              "0     本月  47438687.00\n",
              "1   去年同期  34606486.00\n",
              "2   增減金額  12832201.00\n",
              "3  增減百分比        37.08\n",
              "4   本年累計  47438687.00\n",
              "5   去年累計  34606486.00\n",
              "6   增減金額  12832201.00\n",
              "7  增減百分比        37.08"
            ]
          },
          "execution_count": 5,
          "metadata": {},
          "output_type": "execute_result"
        }
      ],
      "source": [
        "monthly_revenue(\"2330 台積電\", 102, 1)"
      ]
    },
    {
      "cell_type": "markdown",
      "metadata": {
        "id": "Ip30UdQzRMSW"
      },
      "source": [
        "## **4. Update Missing Values from TWSE MOPS**\n",
        "\n",
        "採用 3.2 的方法補缺值"
      ]
    },
    {
      "cell_type": "markdown",
      "metadata": {
        "id": "yX9_4BYCbltV"
      },
      "source": [
        "### **4.0 For update***\n",
        "Do not run *1. Missing Values* and *2. Reformat*.\n"
      ]
    },
    {
      "cell_type": "code",
      "execution_count": 3,
      "metadata": {
        "id": "Y8Z9S1hebxry"
      },
      "outputs": [],
      "source": [
        "# Updated data path\n",
        "updated_data_path = '/content/gdrive/Shareddrives/Me/論文/資料集/'"
      ]
    },
    {
      "cell_type": "code",
      "execution_count": 4,
      "metadata": {
        "colab": {
          "base_uri": "https://localhost:8080/"
        },
        "id": "H-DeI3gdbxry",
        "outputId": "38fe5274-de58-406e-f7c8-1478c93fbac3"
      },
      "outputs": [
        {
          "output_type": "stream",
          "name": "stdout",
          "text": [
            "金融業 (143, 3)\n",
            "非金融業 (2643, 3)\n"
          ]
        }
      ],
      "source": [
        "fin_nan_month = pd.read_excel(os.path.join(updated_data_path,'上市櫃公司月營收_金融業_補值.xlsx'))\n",
        "nonfin_nan_month = pd.read_excel(os.path.join(updated_data_path,'上市櫃公司月營收_非金融業_補值.xlsx'))\n",
        "print(\"金融業\", fin_nan_month.shape)\n",
        "print(\"非金融業\", nonfin_nan_month.shape)"
      ]
    },
    {
      "cell_type": "code",
      "execution_count": 7,
      "metadata": {
        "id": "b3AkpvwET36s"
      },
      "outputs": [],
      "source": [
        "# Reformat 年月(str) to period\n",
        "fin_nan_month['年月'] = pd.to_datetime(fin_nan_month['年月']).dt.to_period('M')\n",
        "nonfin_nan_month['年月'] = pd.to_datetime(nonfin_nan_month['年月']).dt.to_period('M')"
      ]
    },
    {
      "cell_type": "markdown",
      "metadata": {
        "id": "gmexkgR9YxPw"
      },
      "source": [
        "### **4.1 Functions**\n"
      ]
    },
    {
      "cell_type": "code",
      "execution_count": 8,
      "metadata": {
        "id": "t_wrwsDo8Dgv"
      },
      "outputs": [],
      "source": [
        "def searchMonthlyRevenue(co_id_name: str, year: int, month: int):\n",
        "  mr = monthly_revenue(co_id_name, year+1, month)\n",
        "  if mr.empty:\n",
        "    revenue = np.nan\n",
        "  else:\n",
        "    revenue = mr[mr['項目'] == '去年同期'].iloc[0]['營業收入淨額']\n",
        "  return revenue"
      ]
    },
    {
      "cell_type": "code",
      "execution_count": 9,
      "metadata": {
        "id": "A4aM1xCITmCn"
      },
      "outputs": [],
      "source": [
        "def updateMissingData(originalD: pd.DataFrame, sec):\n",
        "  for index, row in originalD.iterrows():\n",
        "    if np.isnan(originalD.at[index, '當月營收（千元）']): # if NaN then search\n",
        "      originalD.at[index, '當月營收（千元）'] = searchMonthlyRevenue(row['公司'], row['年月'].year, row['年月'].month)\n",
        "      time.sleep(sec) # wait for a few seconds and go on"
      ]
    },
    {
      "cell_type": "markdown",
      "metadata": {
        "id": "D8SzFvNNZAzW"
      },
      "source": [
        "### **4.2 金融業**\n",
        "\n",
        "fin_nan_month (143)"
      ]
    },
    {
      "cell_type": "code",
      "execution_count": null,
      "metadata": {
        "colab": {
          "base_uri": "https://localhost:8080/"
        },
        "id": "wsgIYUOXWyPq",
        "outputId": "f86e3b1b-5c72-4b1e-8ad1-3d75a017d094"
      },
      "outputs": [
        {
          "data": {
            "text/plain": [
              "133"
            ]
          },
          "execution_count": 14,
          "metadata": {},
          "output_type": "execute_result"
        }
      ],
      "source": [
        "updateMissingData(fin_nan_month, 0.5)\n",
        "fin_nan_month.isnull().values.sum()"
      ]
    },
    {
      "cell_type": "markdown",
      "metadata": {
        "id": "k9Wq3tpMZHyy"
      },
      "source": [
        "### **4.3 非金融業**\n",
        "\n",
        "nonfin_nan_month (2643)"
      ]
    },
    {
      "cell_type": "code",
      "execution_count": 10,
      "metadata": {
        "id": "8AWoe_4w0EOs"
      },
      "outputs": [],
      "source": [
        "# Split data into 5 subdata\n",
        "nonfin_nan_month1 = nonfin_nan_month[:500]\n",
        "nonfin_nan_month2 = nonfin_nan_month[500:1000]\n",
        "nonfin_nan_month3 = nonfin_nan_month[1000:1500]\n",
        "nonfin_nan_month4 = nonfin_nan_month[1500:2000]\n",
        "nonfin_nan_month5 = nonfin_nan_month[2000:]"
      ]
    },
    {
      "cell_type": "code",
      "execution_count": null,
      "metadata": {
        "colab": {
          "base_uri": "https://localhost:8080/"
        },
        "id": "NiZe5sTRYbig",
        "outputId": "111f1b1e-2b04-4469-a074-8e15a3cf53cf"
      },
      "outputs": [
        {
          "name": "stdout",
          "output_type": "stream",
          "text": [
            "NaN value: 465 / 500\n"
          ]
        }
      ],
      "source": [
        "updateMissingData(nonfin_nan_month1, 1)\n",
        "print(\"NaN value:\", nonfin_nan_month1.isnull().values.sum(), \"/\", nonfin_nan_month1.shape[0])"
      ]
    },
    {
      "cell_type": "code",
      "execution_count": 14,
      "metadata": {
        "colab": {
          "base_uri": "https://localhost:8080/"
        },
        "id": "u5gZfN_jR-Zg",
        "outputId": "7ae70e7e-1c23-4a1d-c5c1-4247941e0c6d"
      },
      "outputs": [
        {
          "output_type": "stream",
          "name": "stdout",
          "text": [
            "NaN value: 446 / 500\n"
          ]
        }
      ],
      "source": [
        "updateMissingData(nonfin_nan_month2, 1)\n",
        "print(\"NaN value:\", nonfin_nan_month2.isnull().values.sum(), \"/\", nonfin_nan_month2.shape[0])"
      ]
    },
    {
      "cell_type": "code",
      "execution_count": 12,
      "metadata": {
        "colab": {
          "base_uri": "https://localhost:8080/"
        },
        "id": "WlygqlNkk23O",
        "outputId": "2bcd4ebb-a663-475c-d724-6a20c12d532a"
      },
      "outputs": [
        {
          "output_type": "stream",
          "name": "stdout",
          "text": [
            "NaN value: 361 / 500\n"
          ]
        }
      ],
      "source": [
        "updateMissingData(nonfin_nan_month3, 1)\n",
        "print(\"NaN value:\", nonfin_nan_month3.isnull().values.sum(), \"/\", nonfin_nan_month3.shape[0])"
      ]
    },
    {
      "cell_type": "code",
      "execution_count": null,
      "metadata": {
        "colab": {
          "base_uri": "https://localhost:8080/"
        },
        "id": "4It8UIuJxzxQ",
        "outputId": "729ded24-832c-4071-a747-227139e1ac97"
      },
      "outputs": [
        {
          "name": "stdout",
          "output_type": "stream",
          "text": [
            "NaN value: 371 / 500\n"
          ]
        }
      ],
      "source": [
        "updateMissingData(nonfin_nan_month4, 1)\n",
        "print(\"NaN value:\", nonfin_nan_month4.isnull().values.sum(), \"/\", nonfin_nan_month4.shape[0])"
      ]
    },
    {
      "cell_type": "code",
      "execution_count": null,
      "metadata": {
        "colab": {
          "base_uri": "https://localhost:8080/"
        },
        "id": "wdekUgdlXk9V",
        "outputId": "f0b8561c-3372-413f-f1f2-a6b91a171bca"
      },
      "outputs": [
        {
          "name": "stdout",
          "output_type": "stream",
          "text": [
            "NaN value: 561 / 643\n"
          ]
        }
      ],
      "source": [
        "updateMissingData(nonfin_nan_month5, 1)\n",
        "print(\"NaN value:\", nonfin_nan_month5.isnull().values.sum(), \"/\", nonfin_nan_month5.shape[0])"
      ]
    },
    {
      "cell_type": "code",
      "execution_count": 13,
      "metadata": {
        "colab": {
          "base_uri": "https://localhost:8080/"
        },
        "id": "OtFGTdgz1psw",
        "outputId": "b29b78a6-3e78-41ec-842f-978af012a636"
      },
      "outputs": [
        {
          "output_type": "stream",
          "name": "stdout",
          "text": [
            "NaN value: 2204 / 2643\n"
          ]
        }
      ],
      "source": [
        "# Concat all the subdata\n",
        "nonfin_nan_month_update = pd.concat([nonfin_nan_month1, nonfin_nan_month2, nonfin_nan_month3, nonfin_nan_month4, nonfin_nan_month5], ignore_index=True, sort=False)\n",
        "print(\"NaN value:\", nonfin_nan_month_update.isnull().values.sum(), \"/\", nonfin_nan_month_update.shape[0])"
      ]
    },
    {
      "cell_type": "markdown",
      "metadata": {
        "id": "TwL6sSjsUcKT"
      },
      "source": [
        "## **5. Output Data**\n",
        "\n"
      ]
    },
    {
      "cell_type": "code",
      "execution_count": null,
      "metadata": {
        "id": "y3C3P7bCZfMi"
      },
      "outputs": [],
      "source": [
        "# Output data path\n",
        "output_data_path = '/content/gdrive/Shareddrives/Me/論文/資料集'"
      ]
    },
    {
      "cell_type": "code",
      "execution_count": null,
      "metadata": {
        "colab": {
          "base_uri": "https://localhost:8080/"
        },
        "id": "Oziv6j-_bdWy",
        "outputId": "6d5529d7-8f89-454f-beb2-3251a04ab3e2"
      },
      "outputs": [
        {
          "name": "stdout",
          "output_type": "stream",
          "text": [
            "Data shape: (143, 3)\n"
          ]
        }
      ],
      "source": [
        "# 金融業：中間有缺失值的公司、年月整理\n",
        "fin_nan_month.to_excel(os.path.join(output_data_path,'上市櫃公司月營收_金融業_補值.xlsx'), index=False)\n",
        "print(\"Data shape:\", fin_nan_month.shape)"
      ]
    },
    {
      "cell_type": "code",
      "execution_count": null,
      "metadata": {
        "id": "H2pZXKbxcF-N"
      },
      "outputs": [],
      "source": [
        "# 非金融業：中間有缺失值的公司、年月整理\n",
        "nonfin_nan_month_update.to_excel(os.path.join(output_data_path,'上市櫃公司月營收_非金融業_補值.xlsx'), index=False)\n",
        "print(\"Data shape:\", nonfin_nan_month_update.shape)"
      ]
    }
  ],
  "metadata": {
    "colab": {
      "collapsed_sections": [
        "A9rvQykV_-dJ",
        "gmexkgR9YxPw"
      ],
      "toc_visible": true,
      "provenance": [],
      "include_colab_link": true
    },
    "kernelspec": {
      "display_name": "Python 3",
      "name": "python3"
    },
    "language_info": {
      "name": "python"
    }
  },
  "nbformat": 4,
  "nbformat_minor": 0
}